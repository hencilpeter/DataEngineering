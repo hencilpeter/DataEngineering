{
 "cells": [
  {
   "cell_type": "code",
   "execution_count": 1,
   "id": "da828df7",
   "metadata": {},
   "outputs": [
    {
     "name": "stdout",
     "output_type": "stream",
     "text": [
      "11 9\n",
      "20\n"
     ]
    }
   ],
   "source": [
    "def find_max_sum(numbers):\n",
    "    #find the largest two numers \n",
    "    num1 = 0\n",
    "    num2 = 0\n",
    "    for number in numbers:\n",
    "        if number > num1:\n",
    "            num2 = num1\n",
    "            num1 = number\n",
    "            continue\n",
    "            \n",
    "        if number > num2:\n",
    "            num2 = number\n",
    "    print(num1, num2)\n",
    "    return num1+num2\n",
    "    \n",
    "if __name__ == \"__main__\":\n",
    "    print(find_max_sum([5, 9, 7, 11]))"
   ]
  },
  {
   "cell_type": "code",
   "execution_count": 2,
   "id": "b8f46430",
   "metadata": {},
   "outputs": [
    {
     "name": "stdout",
     "output_type": "stream",
     "text": [
      "[1, 2, 3]\n"
     ]
    }
   ],
   "source": [
    "def find_unique_numbers(numbers):\n",
    "    return list(set(numbers))\n",
    "\n",
    "if __name__ == \"__main__\":\n",
    "    print(find_unique_numbers([1, 2, 1, 3]))"
   ]
  },
  {
   "cell_type": "code",
   "execution_count": 3,
   "id": "57ede146",
   "metadata": {},
   "outputs": [
    {
     "name": "stdout",
     "output_type": "stream",
     "text": [
      "['a', 'b', 'c']\n"
     ]
    }
   ],
   "source": [
    "mylist = [\"a\", \"b\", \"a\", \"c\", \"c\"]\n",
    "mylist = list(dict.fromkeys(mylist))\n",
    "print(mylist)"
   ]
  },
  {
   "cell_type": "code",
   "execution_count": 4,
   "id": "b40d468e",
   "metadata": {},
   "outputs": [
    {
     "ename": "KeyError",
     "evalue": "1",
     "output_type": "error",
     "traceback": [
      "\u001b[1;31m---------------------------------------------------------------------------\u001b[0m",
      "\u001b[1;31mKeyError\u001b[0m                                  Traceback (most recent call last)",
      "\u001b[1;32m<ipython-input-4-f2133ef974b8>\u001b[0m in \u001b[0;36m<module>\u001b[1;34m\u001b[0m\n\u001b[0;32m      9\u001b[0m \u001b[1;33m\u001b[0m\u001b[0m\n\u001b[0;32m     10\u001b[0m \u001b[1;32mif\u001b[0m \u001b[0m__name__\u001b[0m \u001b[1;33m==\u001b[0m \u001b[1;34m\"__main__\"\u001b[0m\u001b[1;33m:\u001b[0m\u001b[1;33m\u001b[0m\u001b[1;33m\u001b[0m\u001b[0m\n\u001b[1;32m---> 11\u001b[1;33m     \u001b[0mprint\u001b[0m\u001b[1;33m(\u001b[0m\u001b[0mfind_unique_numbers\u001b[0m\u001b[1;33m(\u001b[0m\u001b[1;33m[\u001b[0m\u001b[1;36m1\u001b[0m\u001b[1;33m,\u001b[0m \u001b[1;36m2\u001b[0m\u001b[1;33m,\u001b[0m \u001b[1;36m1\u001b[0m\u001b[1;33m,\u001b[0m \u001b[1;36m3\u001b[0m\u001b[1;33m]\u001b[0m\u001b[1;33m)\u001b[0m\u001b[1;33m)\u001b[0m\u001b[1;33m\u001b[0m\u001b[1;33m\u001b[0m\u001b[0m\n\u001b[0m",
      "\u001b[1;32m<ipython-input-4-f2133ef974b8>\u001b[0m in \u001b[0;36mfind_unique_numbers\u001b[1;34m(numbers)\u001b[0m\n\u001b[0;32m      3\u001b[0m     \u001b[0mdict\u001b[0m \u001b[1;33m=\u001b[0m \u001b[1;33m{\u001b[0m\u001b[1;33m}\u001b[0m\u001b[1;33m\u001b[0m\u001b[1;33m\u001b[0m\u001b[0m\n\u001b[0;32m      4\u001b[0m     \u001b[1;32mfor\u001b[0m \u001b[0mnumber\u001b[0m \u001b[1;32min\u001b[0m \u001b[0mnumbers\u001b[0m\u001b[1;33m:\u001b[0m\u001b[1;33m\u001b[0m\u001b[1;33m\u001b[0m\u001b[0m\n\u001b[1;32m----> 5\u001b[1;33m         \u001b[0mvalue\u001b[0m \u001b[1;33m=\u001b[0m \u001b[0mdict\u001b[0m\u001b[1;33m[\u001b[0m\u001b[0mnumber\u001b[0m\u001b[1;33m]\u001b[0m\u001b[1;33m\u001b[0m\u001b[1;33m\u001b[0m\u001b[0m\n\u001b[0m\u001b[0;32m      6\u001b[0m         \u001b[0mprint\u001b[0m\u001b[1;33m(\u001b[0m\u001b[0mvalue\u001b[0m\u001b[1;33m)\u001b[0m\u001b[1;33m\u001b[0m\u001b[1;33m\u001b[0m\u001b[0m\n\u001b[0;32m      7\u001b[0m \u001b[1;33m\u001b[0m\u001b[0m\n",
      "\u001b[1;31mKeyError\u001b[0m: 1"
     ]
    }
   ],
   "source": [
    "def find_unique_numbers(numbers):\n",
    "    #use dictionary for efficieny \n",
    "    dict = {}\n",
    "    for number in numbers:\n",
    "        value = dict[number]\n",
    "        print(value)\n",
    "      \n",
    "    #return list(set(numbers))\n",
    "\n",
    "if __name__ == \"__main__\":\n",
    "    print(find_unique_numbers([1, 2, 1, 3]))"
   ]
  },
  {
   "cell_type": "code",
   "execution_count": null,
   "id": "ed9e9381",
   "metadata": {},
   "outputs": [],
   "source": [
    "from collections import defaultdict \n",
    "def dictionaryDefault():\n",
    "    return \"NOTEXIST\"\n",
    "\n",
    "def find_unique_numbers(numbers):\n",
    "    dict = defaultdict(dictionaryDefault) \n",
    "    for number in numbers:\n",
    "        if dict[number] == \"NOTEXIST\":\n",
    "            dict[number] = True\n",
    "        else:\n",
    "            dict[number] = False\n",
    "\n",
    "    listUnique = []\n",
    "    \n",
    "    for key in dict.keys():\n",
    "        if dict[key] == True:\n",
    "            listUnique.append(key)\n",
    "            \n",
    "    return listUnique\n"
   ]
  },
  {
   "cell_type": "code",
   "execution_count": null,
   "id": "8a6f8ce2",
   "metadata": {},
   "outputs": [],
   "source": [
    "if __name__ == \"__main__\":\n",
    "    print(find_unique_numbers([1, 2, 1, 3]))"
   ]
  },
  {
   "cell_type": "code",
   "execution_count": null,
   "id": "dd514e36",
   "metadata": {},
   "outputs": [],
   "source": [
    "#approach 1\n",
    "class MovingTotal:\n",
    "    def __init__(self):\n",
    "        self.listNumbers = []\n",
    "    \n",
    "    def append(self, numbers):    \n",
    "        \"\"\"\n",
    "        :param numbers: (list) The list of numbers.\n",
    "        \"\"\"\n",
    "        self.listNumbers.extend(numbers)\n",
    "\n",
    "    def contains(self, total):\n",
    "        \"\"\"\n",
    "        :param total: (int) The total to check for.\n",
    "        :returns: (bool) If MovingTotal contains the total.\n",
    "        \"\"\"\n",
    "        patternLength = 3\n",
    "        lenList = len(self.listNumbers)\n",
    "        if  lenList < patternLength:\n",
    "            return False\n",
    "        \n",
    "        for index in range(2, lenList):\n",
    "            if (self.listNumbers[index] + self.listNumbers[index - 1] + self.listNumbers[index -2])  == total :\n",
    "                return True\n",
    "            else:\n",
    "                continue\n",
    "            \n",
    "        return False\n",
    "    \n",
    "if __name__ == \"__main__\":\n",
    "    movingtotal = MovingTotal()\n",
    "    \n",
    "    movingtotal.append([1, 2, 3, 4])\n",
    "    print(movingtotal.contains(6))\n",
    "    print(movingtotal.contains(9))\n",
    "    print(movingtotal.contains(12))\n",
    "    print(movingtotal.contains(7))\n",
    "    \n",
    "    movingtotal.append([5])\n",
    "    print(movingtotal.contains(6))\n",
    "    print(movingtotal.contains(9))\n",
    "    print(movingtotal.contains(12))\n",
    "    print(movingtotal.contains(7))"
   ]
  },
  {
   "cell_type": "code",
   "execution_count": null,
   "id": "2cf51fae",
   "metadata": {},
   "outputs": [],
   "source": [
    "#approach 2\n",
    "class MovingTotal:\n",
    "    def __init__(self):\n",
    "        self.listNumbers = []\n",
    "    \n",
    "    def append(self, numbers):    \n",
    "        \"\"\"\n",
    "        :param numbers: (list) The list of numbers.\n",
    "        \"\"\"\n",
    "        self.listNumbers.extend(numbers)\n",
    "\n",
    "    def contains(self, total):\n",
    "        \"\"\"\n",
    "        :param total: (int) The total to check for.\n",
    "        :returns: (bool) If MovingTotal contains the total.\n",
    "        \"\"\"\n",
    "        patternLength = 3\n",
    "        lenList = len(self.listNumbers)\n",
    "        if  lenList < patternLength:\n",
    "            return False\n",
    "        \n",
    "        currentValue =  self.listNumbers[0] + self.listNumbers[1] + self.listNumbers[2]\n",
    "        if currentValue == total:\n",
    "            return True\n",
    "        \n",
    "        for index in range(3, lenList):\n",
    "            currentValue -= self.listNumbers[index - patternLength]\n",
    "            currentValue += self.listNumbers[index]\n",
    "            if currentValue  == total :\n",
    "                return True\n",
    "            else:\n",
    "                continue\n",
    "            \n",
    "        return False\n",
    "    \n",
    "if __name__ == \"__main__\":\n",
    "    movingtotal = MovingTotal()\n",
    "    \n",
    "    movingtotal.append([1, 2, 3, 4])\n",
    "    print(movingtotal.contains(6))\n",
    "    print(movingtotal.contains(9))\n",
    "    print(movingtotal.contains(12))\n",
    "    print(movingtotal.contains(7))\n",
    "    \n",
    "    movingtotal.append([5])\n",
    "    print(movingtotal.contains(6))\n",
    "    print(movingtotal.contains(9))\n",
    "    print(movingtotal.contains(12))\n",
    "    print(movingtotal.contains(7))"
   ]
  },
  {
   "cell_type": "code",
   "execution_count": null,
   "id": "c6244351",
   "metadata": {},
   "outputs": [],
   "source": [
    "txt =\"hencil\"\n",
    "print(txt)"
   ]
  },
  {
   "cell_type": "code",
   "execution_count": null,
   "id": "4106a9c8",
   "metadata": {},
   "outputs": [],
   "source": [
    "TXT = \"Peter\"\n",
    "print(TXT)"
   ]
  },
  {
   "cell_type": "code",
   "execution_count": null,
   "id": "50832275",
   "metadata": {},
   "outputs": [],
   "source": [
    "print(str)"
   ]
  },
  {
   "cell_type": "code",
   "execution_count": null,
   "id": "dafdb09c",
   "metadata": {},
   "outputs": [],
   "source": [
    "#approach 3\n",
    "from collections import defaultdict\n",
    "\n",
    "def getDefaultValue():\n",
    "    return \"NOTEXIST\"\n",
    "\n",
    "class MovingTotal:\n",
    "    def __init__(self):\n",
    "        self.dict = defaultdict(getDefaultValue)\n",
    "        self.listNumbers = []\n",
    "    \n",
    "    def append(self, numbers):    \n",
    "        \"\"\"\n",
    "        :param numbers: (list) The list of numbers.\n",
    "        \"\"\"\n",
    "        for num in numbers:\n",
    "            self.listNumbers.append(num)\n",
    "            listLength = len(self.listNumbers)\n",
    "            if listLength >= 3:\n",
    "                key = self.listNumbers[listLength-3] + self.listNumbers[listLength-2] + self.listNumbers[listLength-1]\n",
    "                self.dict[ key]  = True\n",
    "\n",
    "    def contains(self, total):\n",
    "        \"\"\"\n",
    "        :param total: (int) The total to check for.\n",
    "        :returns: (bool) If MovingTotal contains the total.\n",
    "        \"\"\"\n",
    "        dictValue = self.dict[total]\n",
    "        if dictValue != getDefaultValue():\n",
    "            return True\n",
    "              \n",
    "        return False\n",
    "    \n",
    "if __name__ == \"__main__\":\n",
    "    movingtotal = MovingTotal()\n",
    "    \n",
    "    movingtotal.append([1, 2, 3, 4])\n",
    "    print(movingtotal.contains(6))\n",
    "    print(movingtotal.contains(9))\n",
    "    print(movingtotal.contains(12))\n",
    "    print(movingtotal.contains(7))\n",
    "    \n",
    "    movingtotal.append([5])\n",
    "    print(movingtotal.contains(6))\n",
    "    print(movingtotal.contains(9))\n",
    "    print(movingtotal.contains(12))\n",
    "    print(movingtotal.contains(7))"
   ]
  },
  {
   "cell_type": "code",
   "execution_count": 7,
   "id": "ee40959f",
   "metadata": {},
   "outputs": [],
   "source": [
    "from collections import deque\n",
    "\n",
    "class Veterinarian:\n",
    "    def __init__(self):\n",
    "        self.myQueue = deque()\n",
    "    \n",
    "    def accept(self, name):\n",
    "        self.myQueue.append(name)\n",
    "        \n",
    "    def heal(self):\n",
    "        value = self.myQueue.popleft()\n",
    "                \n",
    "        return value\n",
    "    "
   ]
  },
  {
   "cell_type": "code",
   "execution_count": 8,
   "id": "b70b35a3",
   "metadata": {},
   "outputs": [],
   "source": [
    "vetObj = Veterinarian()\n",
    "vetObj.accept(\"One\")\n",
    "\n"
   ]
  },
  {
   "cell_type": "code",
   "execution_count": 9,
   "id": "fd880cfe",
   "metadata": {},
   "outputs": [
    {
     "data": {
      "text/plain": [
       "'One'"
      ]
     },
     "execution_count": 9,
     "metadata": {},
     "output_type": "execute_result"
    }
   ],
   "source": [
    "vetObj.heal()"
   ]
  },
  {
   "cell_type": "code",
   "execution_count": 10,
   "id": "8538937a",
   "metadata": {},
   "outputs": [
    {
     "ename": "IndexError",
     "evalue": "pop from an empty deque",
     "output_type": "error",
     "traceback": [
      "\u001b[1;31m---------------------------------------------------------------------------\u001b[0m",
      "\u001b[1;31mIndexError\u001b[0m                                Traceback (most recent call last)",
      "\u001b[1;32m<ipython-input-10-2b64ee458f6d>\u001b[0m in \u001b[0;36m<module>\u001b[1;34m\u001b[0m\n\u001b[1;32m----> 1\u001b[1;33m \u001b[0mvetObj\u001b[0m\u001b[1;33m.\u001b[0m\u001b[0mheal\u001b[0m\u001b[1;33m(\u001b[0m\u001b[1;33m)\u001b[0m\u001b[1;33m\u001b[0m\u001b[1;33m\u001b[0m\u001b[0m\n\u001b[0m",
      "\u001b[1;32m<ipython-input-7-9ebea87da065>\u001b[0m in \u001b[0;36mheal\u001b[1;34m(self)\u001b[0m\n\u001b[0;32m      9\u001b[0m \u001b[1;33m\u001b[0m\u001b[0m\n\u001b[0;32m     10\u001b[0m     \u001b[1;32mdef\u001b[0m \u001b[0mheal\u001b[0m\u001b[1;33m(\u001b[0m\u001b[0mself\u001b[0m\u001b[1;33m)\u001b[0m\u001b[1;33m:\u001b[0m\u001b[1;33m\u001b[0m\u001b[1;33m\u001b[0m\u001b[0m\n\u001b[1;32m---> 11\u001b[1;33m         \u001b[0mvalue\u001b[0m \u001b[1;33m=\u001b[0m \u001b[0mself\u001b[0m\u001b[1;33m.\u001b[0m\u001b[0mmyQueue\u001b[0m\u001b[1;33m.\u001b[0m\u001b[0mpopleft\u001b[0m\u001b[1;33m(\u001b[0m\u001b[1;33m)\u001b[0m\u001b[1;33m\u001b[0m\u001b[1;33m\u001b[0m\u001b[0m\n\u001b[0m\u001b[0;32m     12\u001b[0m \u001b[1;33m\u001b[0m\u001b[0m\n\u001b[0;32m     13\u001b[0m         \u001b[1;32mreturn\u001b[0m \u001b[0mvalue\u001b[0m\u001b[1;33m\u001b[0m\u001b[1;33m\u001b[0m\u001b[0m\n",
      "\u001b[1;31mIndexError\u001b[0m: pop from an empty deque"
     ]
    }
   ],
   "source": [
    "vetObj.heal()"
   ]
  },
  {
   "cell_type": "code",
   "execution_count": null,
   "id": "a3db8e2f",
   "metadata": {},
   "outputs": [],
   "source": [
    "vetObj.heal()"
   ]
  },
  {
   "cell_type": "code",
   "execution_count": null,
   "id": "8b761c57",
   "metadata": {},
   "outputs": [],
   "source": [
    "vetObj.heal()"
   ]
  },
  {
   "cell_type": "code",
   "execution_count": null,
   "id": "8c77cdca",
   "metadata": {},
   "outputs": [],
   "source": []
  }
 ],
 "metadata": {
  "kernelspec": {
   "display_name": "Python 3",
   "language": "python",
   "name": "python3"
  },
  "language_info": {
   "codemirror_mode": {
    "name": "ipython",
    "version": 3
   },
   "file_extension": ".py",
   "mimetype": "text/x-python",
   "name": "python",
   "nbconvert_exporter": "python",
   "pygments_lexer": "ipython3",
   "version": "3.8.8"
  }
 },
 "nbformat": 4,
 "nbformat_minor": 5
}
