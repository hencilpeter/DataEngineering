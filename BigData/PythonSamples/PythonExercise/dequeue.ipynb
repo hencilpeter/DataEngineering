{
 "cells": [
  {
   "cell_type": "code",
   "execution_count": 1,
   "id": "7713cb05",
   "metadata": {},
   "outputs": [],
   "source": [
    "from collections import deque"
   ]
  },
  {
   "cell_type": "code",
   "execution_count": 78,
   "id": "7417477a",
   "metadata": {},
   "outputs": [],
   "source": [
    "class DequeWrapper:\n",
    "    def __init__(self):\n",
    "        self.container = deque()\n",
    "    \n",
    "    def accept(self, petName):\n",
    "        self.container.append(petName)\n",
    "        \n",
    "    \n",
    "    def heal(self):\n",
    "        if len(self.container) == 0:\n",
    "            raise IndexError(\"Container Index Error\")\n",
    "            \n",
    "        return self.container.popleft()\n",
    "    \n",
    "    def printQueue(self):\n",
    "        print(self.container)\n",
    "        \n",
    "    \n",
    "    "
   ]
  },
  {
   "cell_type": "code",
   "execution_count": 79,
   "id": "dc0a05f2",
   "metadata": {},
   "outputs": [],
   "source": [
    "queueWrapper = DequeWrapper ()"
   ]
  },
  {
   "cell_type": "code",
   "execution_count": 80,
   "id": "e31c2a58",
   "metadata": {},
   "outputs": [],
   "source": [
    "queueWrapper.accept(\"one\")\n",
    "queueWrapper.accept(\"two\")\n",
    "queueWrapper.accept(\"three\")\n"
   ]
  },
  {
   "cell_type": "code",
   "execution_count": 87,
   "id": "0310604d",
   "metadata": {},
   "outputs": [
    {
     "name": "stdout",
     "output_type": "stream",
     "text": [
      "deque([])\n"
     ]
    }
   ],
   "source": [
    "queueWrapper.printQueue()"
   ]
  },
  {
   "cell_type": "code",
   "execution_count": 88,
   "id": "41097e3f",
   "metadata": {},
   "outputs": [
    {
     "ename": "IndexError",
     "evalue": "Container Index Error",
     "output_type": "error",
     "traceback": [
      "\u001b[1;31m---------------------------------------------------------------------------\u001b[0m",
      "\u001b[1;31mIndexError\u001b[0m                                Traceback (most recent call last)",
      "\u001b[1;32m<ipython-input-88-f8f19622b12e>\u001b[0m in \u001b[0;36m<module>\u001b[1;34m\u001b[0m\n\u001b[1;32m----> 1\u001b[1;33m \u001b[0mqueueWrapper\u001b[0m\u001b[1;33m.\u001b[0m\u001b[0mheal\u001b[0m\u001b[1;33m(\u001b[0m\u001b[1;33m)\u001b[0m\u001b[1;33m\u001b[0m\u001b[1;33m\u001b[0m\u001b[0m\n\u001b[0m",
      "\u001b[1;32m<ipython-input-78-0ee280599473>\u001b[0m in \u001b[0;36mheal\u001b[1;34m(self)\u001b[0m\n\u001b[0;32m      9\u001b[0m     \u001b[1;32mdef\u001b[0m \u001b[0mheal\u001b[0m\u001b[1;33m(\u001b[0m\u001b[0mself\u001b[0m\u001b[1;33m)\u001b[0m\u001b[1;33m:\u001b[0m\u001b[1;33m\u001b[0m\u001b[1;33m\u001b[0m\u001b[0m\n\u001b[0;32m     10\u001b[0m         \u001b[1;32mif\u001b[0m \u001b[0mlen\u001b[0m\u001b[1;33m(\u001b[0m\u001b[0mself\u001b[0m\u001b[1;33m.\u001b[0m\u001b[0mcontainer\u001b[0m\u001b[1;33m)\u001b[0m \u001b[1;33m==\u001b[0m \u001b[1;36m0\u001b[0m\u001b[1;33m:\u001b[0m\u001b[1;33m\u001b[0m\u001b[1;33m\u001b[0m\u001b[0m\n\u001b[1;32m---> 11\u001b[1;33m             \u001b[1;32mraise\u001b[0m \u001b[0mIndexError\u001b[0m\u001b[1;33m(\u001b[0m\u001b[1;34m\"Container Index Error\"\u001b[0m\u001b[1;33m)\u001b[0m\u001b[1;33m\u001b[0m\u001b[1;33m\u001b[0m\u001b[0m\n\u001b[0m\u001b[0;32m     12\u001b[0m \u001b[1;33m\u001b[0m\u001b[0m\n\u001b[0;32m     13\u001b[0m         \u001b[1;32mreturn\u001b[0m \u001b[0mself\u001b[0m\u001b[1;33m.\u001b[0m\u001b[0mcontainer\u001b[0m\u001b[1;33m.\u001b[0m\u001b[0mpopleft\u001b[0m\u001b[1;33m(\u001b[0m\u001b[1;33m)\u001b[0m\u001b[1;33m\u001b[0m\u001b[1;33m\u001b[0m\u001b[0m\n",
      "\u001b[1;31mIndexError\u001b[0m: Container Index Error"
     ]
    }
   ],
   "source": [
    "queueWrapper.heal()"
   ]
  },
  {
   "cell_type": "code",
   "execution_count": 89,
   "id": "995a1012",
   "metadata": {},
   "outputs": [],
   "source": [
    "#deque - custom implementation "
   ]
  },
  {
   "cell_type": "code",
   "execution_count": 129,
   "id": "cbafa69b",
   "metadata": {},
   "outputs": [],
   "source": [
    "class Node:\n",
    "    def __init__(self, data):\n",
    "        self.data = data\n",
    "        self.prev = None\n",
    "        self.next = None \n",
    "                "
   ]
  },
  {
   "cell_type": "code",
   "execution_count": 137,
   "id": "1f3743dd",
   "metadata": {},
   "outputs": [],
   "source": [
    "\n",
    "class CustomeDQueue:\n",
    "    def __init__(self):\n",
    "        self.queue = None\n",
    "    \n",
    "    def addLeft(self, data):\n",
    "        nodeObj = Node(data)\n",
    "        \n",
    "        if self.queue == None:\n",
    "            self.queue = nodeObj\n",
    "        else:\n",
    "            nodeObj.next = self.queue\n",
    "            self.queue.prev = nodeObj\n",
    "            self.queue = nodeObj\n",
    "            \n",
    "    def addRight(self, data):\n",
    "        nodeObj = Node(data)\n",
    "        \n",
    "        if self.queue == None:\n",
    "            self.queue = nodeObj\n",
    "        else:\n",
    "            temp = self.queue\n",
    "            #move to the last node \n",
    "            while temp.next != None:\n",
    "                temp = temp.next\n",
    "            \n",
    "            temp.next = nodeObj\n",
    "            nodeObj.prev = temp \n",
    "            \n",
    "    def removeRight(self):\n",
    "        temp = self.queue\n",
    "        if temp == None:\n",
    "            raise IndexError(\"Empty\")\n",
    "        #move to the last node \n",
    "        while temp.next != None:\n",
    "            temp = temp.next\n",
    "        \n",
    "        delNode = temp \n",
    "        temp = temp.prev\n",
    "        temp.next = None\n",
    "        del delNode\n",
    "        \n",
    "    \n",
    "    def printQueue(self):\n",
    "        temp = self.queue\n",
    "        if temp == None:\n",
    "            print(\"Queue Empty\")\n",
    "        \n",
    "        while temp != None:\n",
    "            print(temp.data)\n",
    "            temp = temp.next\n",
    "            \n",
    "        "
   ]
  },
  {
   "cell_type": "code",
   "execution_count": 138,
   "id": "b6380efd",
   "metadata": {},
   "outputs": [],
   "source": [
    "customQueue = CustomeDQueue()\n"
   ]
  },
  {
   "cell_type": "code",
   "execution_count": 139,
   "id": "63474ec8",
   "metadata": {},
   "outputs": [],
   "source": [
    "customQueue.addLeft(10)\n",
    "customQueue.addLeft(20)\n",
    "customQueue.addLeft(30)"
   ]
  },
  {
   "cell_type": "code",
   "execution_count": 140,
   "id": "979a79cc",
   "metadata": {},
   "outputs": [
    {
     "name": "stdout",
     "output_type": "stream",
     "text": [
      "30\n",
      "20\n",
      "10\n"
     ]
    }
   ],
   "source": [
    "customQueue.printQueue()"
   ]
  },
  {
   "cell_type": "code",
   "execution_count": 141,
   "id": "f777c37c",
   "metadata": {},
   "outputs": [],
   "source": [
    "customQueue.addRight(50)"
   ]
  },
  {
   "cell_type": "code",
   "execution_count": 142,
   "id": "221dbff8",
   "metadata": {},
   "outputs": [
    {
     "name": "stdout",
     "output_type": "stream",
     "text": [
      "30\n",
      "20\n",
      "10\n",
      "50\n"
     ]
    }
   ],
   "source": [
    "customQueue.printQueue()"
   ]
  },
  {
   "cell_type": "code",
   "execution_count": 144,
   "id": "3a993d8c",
   "metadata": {},
   "outputs": [],
   "source": [
    "customQueue.removeRight()"
   ]
  },
  {
   "cell_type": "code",
   "execution_count": 145,
   "id": "fc285716",
   "metadata": {},
   "outputs": [
    {
     "name": "stdout",
     "output_type": "stream",
     "text": [
      "30\n",
      "20\n",
      "10\n"
     ]
    }
   ],
   "source": [
    "customQueue.printQueue()"
   ]
  },
  {
   "cell_type": "code",
   "execution_count": 191,
   "id": "31fe087a",
   "metadata": {},
   "outputs": [],
   "source": [
    "#full doubly linked list "
   ]
  },
  {
   "cell_type": "code",
   "execution_count": 215,
   "id": "c9d745a3",
   "metadata": {},
   "outputs": [],
   "source": [
    "class CustomeDQueue2:\n",
    "    def __init__(self):\n",
    "        self.head = None\n",
    "        self.tail = None\n",
    "    \n",
    "    def addLeft(self, data):\n",
    "        nodeObj = Node(data)\n",
    "        \n",
    "        if self.head == None and self.tail == None:\n",
    "            self.head = nodeObj\n",
    "            self.tail = nodeObj\n",
    "        else:\n",
    "            nodeObj.next = self.head\n",
    "            self.head.prev = nodeObj\n",
    "            self.head = nodeObj\n",
    "       \n",
    "    def addRight(self, data):\n",
    "        nodeObj = Node(data)\n",
    "        \n",
    "        if self.head == None and self.tail == None:\n",
    "            self.head = nodeObj\n",
    "            self.tail = nodeObj\n",
    "        else:\n",
    "            nodeObj.prev = self.tail\n",
    "            self.tail.next = nodeObj\n",
    "            self.tail = nodeObj\n",
    "            \n",
    "         \n",
    "#     def removeRight(self):\n",
    "#         temp = self.queue\n",
    "#         if temp == None:\n",
    "#             raise IndexError(\"Empty\")\n",
    "        \n",
    "#         delNode = temp \n",
    "#         temp = temp.prev\n",
    "#         temp.next = None\n",
    "#         del delNode\n",
    "        \n",
    "    \n",
    "    def printQueue(self):\n",
    "        temp = self.head\n",
    "        if temp == None:\n",
    "            print(\"Queue Empty\")\n",
    "        \n",
    "        while temp != None:\n",
    "            print(temp.data)\n",
    "            temp = temp.next"
   ]
  },
  {
   "cell_type": "code",
   "execution_count": 216,
   "id": "0b61b253",
   "metadata": {},
   "outputs": [
    {
     "name": "stdout",
     "output_type": "stream",
     "text": [
      "40\n",
      "30\n",
      "20\n",
      "10\n"
     ]
    }
   ],
   "source": [
    "queue2 = CustomeDQueue2()\n",
    "queue2.addLeft(10)\n",
    "queue2.addLeft(20)\n",
    "queue2.addLeft(30)\n",
    "queue2.addLeft(40)\n",
    "queue2.printQueue()\n",
    "\n"
   ]
  },
  {
   "cell_type": "code",
   "execution_count": 217,
   "id": "3bc43304",
   "metadata": {},
   "outputs": [
    {
     "name": "stdout",
     "output_type": "stream",
     "text": [
      "40\n",
      "30\n",
      "20\n",
      "10\n",
      "40\n",
      "50\n",
      "60\n"
     ]
    }
   ],
   "source": [
    "queue2.addRight(40)\n",
    "queue2.addRight(50)\n",
    "queue2.addRight(60)\n",
    "queue2.printQueue()"
   ]
  },
  {
   "cell_type": "code",
   "execution_count": null,
   "id": "b04e341d",
   "metadata": {},
   "outputs": [],
   "source": []
  },
  {
   "cell_type": "code",
   "execution_count": 207,
   "id": "58e3918a",
   "metadata": {},
   "outputs": [],
   "source": [
    "#get the duplicate in a list \n",
    "listSample = [1,1,2,3,4,5,6,7,8,9,9,10]"
   ]
  },
  {
   "cell_type": "code",
   "execution_count": 153,
   "id": "3f17bf16",
   "metadata": {},
   "outputs": [],
   "source": [
    "listCount = [0] * 11"
   ]
  },
  {
   "cell_type": "code",
   "execution_count": 155,
   "id": "bcc90afb",
   "metadata": {},
   "outputs": [],
   "source": [
    "for x in listSample:\n",
    "    listCount[x] +=1"
   ]
  },
  {
   "cell_type": "code",
   "execution_count": 156,
   "id": "6e371348",
   "metadata": {},
   "outputs": [
    {
     "data": {
      "text/plain": [
       "[0, 2, 1, 1, 1, 1, 1, 1, 1, 2, 1]"
      ]
     },
     "execution_count": 156,
     "metadata": {},
     "output_type": "execute_result"
    }
   ],
   "source": [
    "listCount"
   ]
  },
  {
   "cell_type": "code",
   "execution_count": 157,
   "id": "96722252",
   "metadata": {},
   "outputs": [],
   "source": [
    "#use counter \n",
    "from collections import Counter"
   ]
  },
  {
   "cell_type": "code",
   "execution_count": 181,
   "id": "35db3bfd",
   "metadata": {},
   "outputs": [],
   "source": [
    "countObj = Counter()\n",
    "countObj.update([1,2])\n",
    "countObj.update([1,2,3,6,7])"
   ]
  },
  {
   "cell_type": "code",
   "execution_count": 182,
   "id": "cf48900e",
   "metadata": {},
   "outputs": [
    {
     "data": {
      "text/plain": [
       "Counter({1: 2, 2: 2, 3: 1, 6: 1, 7: 1})"
      ]
     },
     "execution_count": 182,
     "metadata": {},
     "output_type": "execute_result"
    }
   ],
   "source": [
    "countObj"
   ]
  },
  {
   "cell_type": "code",
   "execution_count": 187,
   "id": "3baf8b92",
   "metadata": {},
   "outputs": [
    {
     "name": "stdout",
     "output_type": "stream",
     "text": [
      "3\n",
      "6\n",
      "7\n"
     ]
    }
   ],
   "source": [
    "for x in countObj.items():\n",
    "    if x[1] > 1:\n",
    "        continue  \n",
    "        \n",
    "    print(x[0])"
   ]
  },
  {
   "cell_type": "code",
   "execution_count": 190,
   "id": "00b20dad",
   "metadata": {},
   "outputs": [
    {
     "data": {
      "text/plain": [
       "[3, 6, 7]"
      ]
     },
     "execution_count": 190,
     "metadata": {},
     "output_type": "execute_result"
    }
   ],
   "source": [
    "#another approach \n",
    "[x[0] for x in countObj.items() if x[1] <=1]"
   ]
  },
  {
   "cell_type": "code",
   "execution_count": null,
   "id": "61977011",
   "metadata": {},
   "outputs": [],
   "source": []
  }
 ],
 "metadata": {
  "kernelspec": {
   "display_name": "Python 3",
   "language": "python",
   "name": "python3"
  },
  "language_info": {
   "codemirror_mode": {
    "name": "ipython",
    "version": 3
   },
   "file_extension": ".py",
   "mimetype": "text/x-python",
   "name": "python",
   "nbconvert_exporter": "python",
   "pygments_lexer": "ipython3",
   "version": "3.8.8"
  }
 },
 "nbformat": 4,
 "nbformat_minor": 5
}
