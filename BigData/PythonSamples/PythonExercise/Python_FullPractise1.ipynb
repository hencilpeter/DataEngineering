{
 "cells": [
  {
   "cell_type": "markdown",
   "id": "e98582e1",
   "metadata": {},
   "source": [
    "### 1. variables"
   ]
  },
  {
   "cell_type": "code",
   "execution_count": 1,
   "id": "59b6cadc",
   "metadata": {},
   "outputs": [
    {
     "name": "stdout",
     "output_type": "stream",
     "text": [
      "string variable with single quote\n"
     ]
    }
   ],
   "source": [
    "strVar1 = 'string variable with single quote'\n",
    "print(strVar1)"
   ]
  },
  {
   "cell_type": "code",
   "execution_count": 2,
   "id": "510c2837",
   "metadata": {},
   "outputs": [
    {
     "name": "stdout",
     "output_type": "stream",
     "text": [
      "string variable with double quotes\n"
     ]
    }
   ],
   "source": [
    "strVar2 = \"string variable with double quotes\"\n",
    "print(strVar2)"
   ]
  },
  {
   "cell_type": "code",
   "execution_count": 3,
   "id": "58e7aeeb",
   "metadata": {},
   "outputs": [
    {
     "name": "stdout",
     "output_type": "stream",
     "text": [
      "\n",
      "string multiline 1\n",
      "string multiline 2\n",
      "string multiline 3\n",
      "\n"
     ]
    }
   ],
   "source": [
    "strMultiline1 = '''\n",
    "string multiline 1\n",
    "string multiline 2\n",
    "string multiline 3\n",
    "'''\n",
    "print(strMultiline1)"
   ]
  },
  {
   "cell_type": "code",
   "execution_count": 4,
   "id": "8528d746",
   "metadata": {},
   "outputs": [
    {
     "name": "stdout",
     "output_type": "stream",
     "text": [
      "\n",
      "strng multiline - 1\n",
      "strng multiline - 2\n",
      "strng multiline - 3\n",
      "\n",
      "\n"
     ]
    }
   ],
   "source": [
    "strMultiline2 = \"\"\"\n",
    "strng multiline - 1\n",
    "strng multiline - 2\n",
    "strng multiline - 3\n",
    "\n",
    "\"\"\"\n",
    "print(strMultiline2)"
   ]
  },
  {
   "cell_type": "code",
   "execution_count": 5,
   "id": "e16005fd",
   "metadata": {},
   "outputs": [
    {
     "name": "stdout",
     "output_type": "stream",
     "text": [
      "a = 10, b= 20, c = 30\n"
     ]
    }
   ],
   "source": [
    "a,b,c = 10,20,30\n",
    "print(\"a = {}, b= {}, c = {}\".format(a,b,c))"
   ]
  },
  {
   "cell_type": "code",
   "execution_count": 6,
   "id": "6ef483af",
   "metadata": {},
   "outputs": [
    {
     "name": "stdout",
     "output_type": "stream",
     "text": [
      "x = 100, y  = 100, z = 100\n"
     ]
    }
   ],
   "source": [
    "x=y=z = 100\n",
    "print(\"x = {0}, y  = {1}, z = {2}\".format(x,y,z))"
   ]
  },
  {
   "cell_type": "code",
   "execution_count": 7,
   "id": "8e487894",
   "metadata": {},
   "outputs": [
    {
     "name": "stdout",
     "output_type": "stream",
     "text": [
      "200\n"
     ]
    }
   ],
   "source": [
    "#global variable example\n",
    "globalInteger = 200\n",
    "print(globalInteger)"
   ]
  },
  {
   "cell_type": "code",
   "execution_count": 8,
   "id": "e32c604c",
   "metadata": {},
   "outputs": [],
   "source": [
    "def globalIntegerTest():\n",
    "   \n",
    "    global globalInteger\n",
    "    globalInteger = 100\n",
    "    print(globalInteger)"
   ]
  },
  {
   "cell_type": "code",
   "execution_count": 9,
   "id": "40b033f2",
   "metadata": {},
   "outputs": [
    {
     "name": "stdout",
     "output_type": "stream",
     "text": [
      "100\n"
     ]
    }
   ],
   "source": [
    "globalIntegerTest()"
   ]
  },
  {
   "cell_type": "markdown",
   "id": "68932afb",
   "metadata": {},
   "source": [
    "### Variables"
   ]
  },
  {
   "cell_type": "code",
   "execution_count": 10,
   "id": "902def8a",
   "metadata": {},
   "outputs": [
    {
     "name": "stdout",
     "output_type": "stream",
     "text": [
      "strVar = Hello World!!!, intVar = 100, floatVar = 25.5, complexVar = (5+3j),  boolVar = True, bytesVar = b'\\x00\\x00\\x00\\x00\\x00\\x00\\x00\\x00\\x00\\x00'\n"
     ]
    }
   ],
   "source": [
    "strVar = \"Hello World!!!\"\n",
    "intVar = 100\n",
    "floatVar = 25.5\n",
    "complextVar = 5 + 3j\n",
    "boolVar = True\n",
    "bytesVar = bytes(10) # bytes not mutable\n",
    "\n",
    "print( f\"strVar = {strVar}, intVar = {intVar}, floatVar = {floatVar}, complexVar = {complextVar},  boolVar = {boolVar}, bytesVar = {bytesVar}\")"
   ]
  },
  {
   "cell_type": "code",
   "execution_count": 11,
   "id": "6d756a8a",
   "metadata": {},
   "outputs": [
    {
     "name": "stdout",
     "output_type": "stream",
     "text": [
      "bytearray(b'\\x19\\x00\\x00\\x00\\x00\\x00\\x00\\x00\\x00\\x00')\n"
     ]
    }
   ],
   "source": [
    "#byte array  - mutable \n",
    "byteArrayVar = bytearray(10)\n",
    "byteArrayVar[0] = 25\n",
    "print(byteArrayVar)\n",
    "#to_bytes\n",
    "\n",
    "#to bytes , memory view \n"
   ]
  },
  {
   "cell_type": "code",
   "execution_count": 12,
   "id": "861ce300",
   "metadata": {},
   "outputs": [
    {
     "name": "stdout",
     "output_type": "stream",
     "text": [
      "b'\\x00\\x00\\x00\\x00\\x00\\x00\\x00\\x00\\x01\\x02'\n"
     ]
    }
   ],
   "source": [
    "bytesArrayVar = (258).to_bytes(10, byteorder='big')\n",
    "print(bytesArrayVar)"
   ]
  },
  {
   "cell_type": "code",
   "execution_count": 13,
   "id": "4838da79",
   "metadata": {},
   "outputs": [],
   "source": [
    "#bytesArrayVar[1] = 22 # modifying  - error "
   ]
  },
  {
   "cell_type": "code",
   "execution_count": 14,
   "id": "22ae32aa",
   "metadata": {},
   "outputs": [
    {
     "name": "stdout",
     "output_type": "stream",
     "text": [
      "<memory at 0x000002819D439400>\n"
     ]
    }
   ],
   "source": [
    "#memoryview test\n",
    "memoryViewTest = memoryview(bytearray('abc', 'utf-8'))\n",
    "print(memoryViewTest)"
   ]
  },
  {
   "cell_type": "code",
   "execution_count": 15,
   "id": "a5eb8516",
   "metadata": {},
   "outputs": [
    {
     "data": {
      "text/plain": [
       "97"
      ]
     },
     "execution_count": 15,
     "metadata": {},
     "output_type": "execute_result"
    }
   ],
   "source": [
    "memoryViewTest[0]\n"
   ]
  },
  {
   "cell_type": "markdown",
   "id": "043f8d4c",
   "metadata": {},
   "source": [
    "### 3. Casting "
   ]
  },
  {
   "cell_type": "code",
   "execution_count": 16,
   "id": "459a8ad6",
   "metadata": {},
   "outputs": [
    {
     "name": "stdout",
     "output_type": "stream",
     "text": [
      "castingString  type = hello 123 , value = <class 'str'>\n"
     ]
    }
   ],
   "source": [
    "castingString = str('hello 123')\n",
    "print(\"castingString  type = {0} , value = {1}\".format(castingString, type(castingString)))"
   ]
  },
  {
   "cell_type": "code",
   "execution_count": 17,
   "id": "d7c0a2c0",
   "metadata": {},
   "outputs": [
    {
     "name": "stdout",
     "output_type": "stream",
     "text": [
      "castingFloat  type = 12.3 , value = <class 'float'>\n"
     ]
    }
   ],
   "source": [
    "castingFloat = float('12.3')\n",
    "print(\"castingFloat  type = {0} , value = {1}\".format(castingFloat, type(castingFloat)))"
   ]
  },
  {
   "cell_type": "code",
   "execution_count": 18,
   "id": "b1a94d4d",
   "metadata": {},
   "outputs": [
    {
     "name": "stdout",
     "output_type": "stream",
     "text": [
      "\n"
     ]
    }
   ],
   "source": [
    "castingInt = int('123')\n",
    "print(\"\")"
   ]
  },
  {
   "cell_type": "markdown",
   "id": "91a3d71e",
   "metadata": {},
   "source": [
    "### 4. String"
   ]
  },
  {
   "cell_type": "code",
   "execution_count": 19,
   "id": "216fcf84",
   "metadata": {},
   "outputs": [
    {
     "name": "stdout",
     "output_type": "stream",
     "text": [
      "Original string :  Singapore is a beautiful country.\n"
     ]
    }
   ],
   "source": [
    "s = 'Singapore is a beautiful country.'\n",
    "print('Original string : ',s)"
   ]
  },
  {
   "cell_type": "code",
   "execution_count": 20,
   "id": "699ec98b",
   "metadata": {},
   "outputs": [
    {
     "name": "stdout",
     "output_type": "stream",
     "text": [
      "['s[0]=S', 's[1]=i', 's[2]=n', 's[3]=g', 's[4]=a', 's[5]=p', 's[6]=o', 's[7]=r', 's[8]=e', 's[9]= ', 's[10]=i', 's[11]=s', 's[12]= ', 's[13]=a', 's[14]= ', 's[15]=b', 's[16]=e', 's[17]=a', 's[18]=u', 's[19]=t', 's[20]=i', 's[21]=f', 's[22]=u', 's[23]=l', 's[24]= ', 's[25]=c', 's[26]=o', 's[27]=u', 's[28]=n', 's[29]=t', 's[30]=r', 's[31]=y', 's[32]=.']\n"
     ]
    }
   ],
   "source": [
    "#print index and letters \n",
    "resultList = []\n",
    "currentIndex = 0\n",
    "for char in s:\n",
    "    resultList.append(f's[{currentIndex}]={char}')\n",
    "    currentIndex += 1\n",
    "print(resultList)"
   ]
  },
  {
   "cell_type": "code",
   "execution_count": 21,
   "id": "5d438716",
   "metadata": {},
   "outputs": [
    {
     "name": "stdout",
     "output_type": "stream",
     "text": [
      "Slicing from the left :  Singapore\n"
     ]
    }
   ],
   "source": [
    "print('Slicing from the left : ', s[0:9])"
   ]
  },
  {
   "cell_type": "code",
   "execution_count": 22,
   "id": "5f1e6b8b",
   "metadata": {},
   "outputs": [
    {
     "name": "stdout",
     "output_type": "stream",
     "text": [
      "Slicing from the right :  l country\n"
     ]
    }
   ],
   "source": [
    "print('Slicing from the right : ', s[-10:-1])"
   ]
  },
  {
   "cell_type": "code",
   "execution_count": 23,
   "id": "b0ad40ce",
   "metadata": {},
   "outputs": [
    {
     "name": "stdout",
     "output_type": "stream",
     "text": [
      "slicing from the middle :  is a beaut\n"
     ]
    }
   ],
   "source": [
    "print('slicing from the middle : ', s[10:20])"
   ]
  },
  {
   "cell_type": "code",
   "execution_count": 24,
   "id": "b43683e6",
   "metadata": {},
   "outputs": [
    {
     "name": "stdout",
     "output_type": "stream",
     "text": [
      "print the alternative characters  :  Snaoei  euiu onr.\n"
     ]
    }
   ],
   "source": [
    "print('print the alternative characters  : ', s[::2])"
   ]
  },
  {
   "cell_type": "code",
   "execution_count": 25,
   "id": "10e5f27f",
   "metadata": {},
   "outputs": [
    {
     "name": "stdout",
     "output_type": "stream",
     "text": [
      "print each thrid characters  :  Sgo  buf ur\n"
     ]
    }
   ],
   "source": [
    "print('print each thrid characters  : ', s[::3])"
   ]
  },
  {
   "cell_type": "code",
   "execution_count": 26,
   "id": "3372a3b8",
   "metadata": {},
   "outputs": [
    {
     "name": "stdout",
     "output_type": "stream",
     "text": [
      "reverse the string :  .yrtnuoc lufituaeb a si eropagniS\n"
     ]
    }
   ],
   "source": [
    "print('reverse the string : ', s[::-1])"
   ]
  },
  {
   "cell_type": "code",
   "execution_count": 27,
   "id": "705f5c47",
   "metadata": {},
   "outputs": [
    {
     "name": "stdout",
     "output_type": "stream",
     "text": [
      "reverse the string but alternative characters:  .rno uiue  ieoanS\n"
     ]
    }
   ],
   "source": [
    "print('reverse the string but alternative characters: ', s[::-2])"
   ]
  },
  {
   "cell_type": "code",
   "execution_count": 28,
   "id": "c2057484",
   "metadata": {},
   "outputs": [
    {
     "name": "stdout",
     "output_type": "stream",
     "text": [
      "Upper =  SINGAPORE IS A BEAUTIFUL COUNTRY.\n",
      "lower =  singapore is a beautiful country.\n",
      "capitalize =  Singapore is a beautiful country.\n",
      "casefold =  singapore is a beautiful country.\n"
     ]
    }
   ],
   "source": [
    "#string functions \n",
    "print(\"Upper = \", s.upper())\n",
    "print(\"lower = \", s.lower())\n",
    "print(\"capitalize = \", s.capitalize())\n",
    "print(\"casefold = \", s.casefold())\n"
   ]
  },
  {
   "cell_type": "markdown",
   "id": "77fdcdb1",
   "metadata": {},
   "source": [
    "### 5. Operators"
   ]
  },
  {
   "cell_type": "code",
   "execution_count": 29,
   "id": "385f8153",
   "metadata": {},
   "outputs": [
    {
     "name": "stdout",
     "output_type": "stream",
     "text": [
      "1\n",
      "2\n",
      "25\n",
      "7\n"
     ]
    }
   ],
   "source": [
    "#arithmatic operators \n",
    "print(5%2) # modulus - 1\n",
    "print(5//2) #floor division \n",
    "print(5**2) #power \n",
    "print(5 ^ 2 ) # xor"
   ]
  },
  {
   "cell_type": "code",
   "execution_count": 30,
   "id": "c5fd1af4",
   "metadata": {},
   "outputs": [
    {
     "name": "stdout",
     "output_type": "stream",
     "text": [
      "AND operator tested\n"
     ]
    }
   ],
   "source": [
    "#logical operators\n",
    "a = 5\n",
    "b= 7\n",
    "if a == 5 and b == 7:\n",
    "    print('AND operator tested')"
   ]
  },
  {
   "cell_type": "code",
   "execution_count": 31,
   "id": "16aea903",
   "metadata": {},
   "outputs": [
    {
     "name": "stdout",
     "output_type": "stream",
     "text": [
      "OR operator tested.\n"
     ]
    }
   ],
   "source": [
    "if a==5 or b ==10:\n",
    "    print(\"OR operator tested.\")"
   ]
  },
  {
   "cell_type": "code",
   "execution_count": 32,
   "id": "8d37a0df",
   "metadata": {},
   "outputs": [],
   "source": [
    "if not a:\n",
    "    print(\"Not tested.\")"
   ]
  },
  {
   "cell_type": "code",
   "execution_count": 33,
   "id": "afa07868",
   "metadata": {},
   "outputs": [],
   "source": [
    "#identity operators \n",
    "if a is b:\n",
    "    print(\"a is b\")"
   ]
  },
  {
   "cell_type": "code",
   "execution_count": 34,
   "id": "269a3f64",
   "metadata": {},
   "outputs": [
    {
     "name": "stdout",
     "output_type": "stream",
     "text": [
      "a is not b\n"
     ]
    }
   ],
   "source": [
    "if a is not b:\n",
    "    print(\"a is not b\")"
   ]
  },
  {
   "cell_type": "code",
   "execution_count": 35,
   "id": "13bff0d1",
   "metadata": {},
   "outputs": [
    {
     "name": "stdout",
     "output_type": "stream",
     "text": [
      "a is b\n"
     ]
    }
   ],
   "source": [
    "a = 5\n",
    "b = 5\n",
    "if a is b:\n",
    "    print(\"a is b\")"
   ]
  },
  {
   "cell_type": "code",
   "execution_count": 36,
   "id": "cca293bc",
   "metadata": {},
   "outputs": [
    {
     "name": "stdout",
     "output_type": "stream",
     "text": [
      "India exist in listCountries list\n"
     ]
    }
   ],
   "source": [
    "#membership operators\n",
    "listCountries = ['India', 'Japan','America', 'England']\n",
    "if \"India\" in listCountries:\n",
    "    print(\"India exist in listCountries list\")"
   ]
  },
  {
   "cell_type": "code",
   "execution_count": 37,
   "id": "1c7de7d2",
   "metadata": {},
   "outputs": [
    {
     "name": "stdout",
     "output_type": "stream",
     "text": [
      "Africa not in listCountries\n"
     ]
    }
   ],
   "source": [
    "if \"Africa\" not in listCountries:\n",
    "    print(\"Africa not in listCountries\")"
   ]
  },
  {
   "cell_type": "code",
   "execution_count": 38,
   "id": "ed759dc0",
   "metadata": {},
   "outputs": [
    {
     "name": "stdout",
     "output_type": "stream",
     "text": [
      "AND result :  1\n",
      "OR result :  3\n",
      "XOR result :  2\n",
      "NOT result :  -5\n",
      "Shift left result :  20\n",
      "Shift righ result :  1\n"
     ]
    }
   ],
   "source": [
    "#Bitwise operators \n",
    "print(\"AND result : \", 3 & 1)\n",
    "print(\"OR result : \", 3 | 1)\n",
    "print(\"XOR result : \", 3 ^1)\n",
    "print(\"NOT result : \", ~4)\n",
    "print(\"Shift left result : \", 5<<2)\n",
    "print(\"Shift righ result : \", 5>>2)"
   ]
  },
  {
   "cell_type": "markdown",
   "id": "d49ea023",
   "metadata": {},
   "source": [
    "### 6. List"
   ]
  },
  {
   "cell_type": "code",
   "execution_count": 39,
   "id": "eaf73b39",
   "metadata": {},
   "outputs": [],
   "source": [
    "listExample = ['India', 12, True]"
   ]
  },
  {
   "cell_type": "code",
   "execution_count": 40,
   "id": "a70480e6",
   "metadata": {},
   "outputs": [
    {
     "name": "stdout",
     "output_type": "stream",
     "text": [
      "['India', 12, True]\n"
     ]
    }
   ],
   "source": [
    "print(listExample)"
   ]
  },
  {
   "cell_type": "code",
   "execution_count": 41,
   "id": "ac6cc655",
   "metadata": {},
   "outputs": [
    {
     "name": "stdout",
     "output_type": "stream",
     "text": [
      "India\n",
      "12\n",
      "True\n"
     ]
    }
   ],
   "source": [
    "#1. for loop\n",
    "for item in listExample:\n",
    "    print(item)"
   ]
  },
  {
   "cell_type": "code",
   "execution_count": 42,
   "id": "5f6425ed",
   "metadata": {},
   "outputs": [
    {
     "name": "stdout",
     "output_type": "stream",
     "text": [
      "India\n",
      "12\n",
      "True\n"
     ]
    }
   ],
   "source": [
    "#2. for loop with range\n",
    "for index in range(len(listExample)):\n",
    "    print(listExample[index])"
   ]
  },
  {
   "cell_type": "code",
   "execution_count": 43,
   "id": "3d3847b6",
   "metadata": {},
   "outputs": [
    {
     "name": "stdout",
     "output_type": "stream",
     "text": [
      "India\n",
      "12\n",
      "True\n"
     ]
    }
   ],
   "source": [
    "#3. while \n",
    "index = 0\n",
    "while index < len(listExample):\n",
    "    print(listExample[index])\n",
    "    index +=1"
   ]
  },
  {
   "cell_type": "code",
   "execution_count": 44,
   "id": "9ddffbe9",
   "metadata": {},
   "outputs": [
    {
     "name": "stdout",
     "output_type": "stream",
     "text": [
      "<class 'list'>\n"
     ]
    }
   ],
   "source": [
    "\n",
    "listFromTuple = list(('one', 'two','three','four','five','six'))\n",
    "print(type(listFromTuple))"
   ]
  },
  {
   "cell_type": "code",
   "execution_count": 45,
   "id": "27a4796d",
   "metadata": {},
   "outputs": [
    {
     "name": "stdout",
     "output_type": "stream",
     "text": [
      "1\n",
      "2\n",
      "3\n",
      "4\n",
      "5\n",
      "6\n",
      "7\n",
      "8\n",
      "9\n"
     ]
    }
   ],
   "source": [
    "listNumbers = [1,2,3,4,5,6,7,8,9]\n",
    "for item in listNumbers:\n",
    "    print(item)"
   ]
  },
  {
   "cell_type": "code",
   "execution_count": 46,
   "id": "32e36271",
   "metadata": {},
   "outputs": [
    {
     "data": {
      "text/plain": [
       "[1, 2, 3, 4, 5, 6, 7, 8, 9]"
      ]
     },
     "execution_count": 46,
     "metadata": {},
     "output_type": "execute_result"
    }
   ],
   "source": [
    "#1. list comprehension  (simple)\n",
    "[item for item in listNumbers]"
   ]
  },
  {
   "cell_type": "code",
   "execution_count": 47,
   "id": "bea1a0db",
   "metadata": {},
   "outputs": [
    {
     "data": {
      "text/plain": [
       "[2, 4, 6, 8]"
      ]
     },
     "execution_count": 47,
     "metadata": {},
     "output_type": "execute_result"
    }
   ],
   "source": [
    "#2. list comprehension  (with if )\n",
    "[item for item in listNumbers if item % 2 == 0]"
   ]
  },
  {
   "cell_type": "code",
   "execution_count": 48,
   "id": "05914b63",
   "metadata": {},
   "outputs": [
    {
     "data": {
      "text/plain": [
       "['odd num : 1',\n",
       " 'even num : 2',\n",
       " 'odd num : 3',\n",
       " 'even num : 4',\n",
       " 'odd num : 5',\n",
       " 'even num : 6',\n",
       " 'odd num : 7',\n",
       " 'even num : 8',\n",
       " 'odd num : 9']"
      ]
     },
     "execution_count": 48,
     "metadata": {},
     "output_type": "execute_result"
    }
   ],
   "source": [
    "#3. list comprehension  (with if and else)\n",
    "['even num : ' + str(item) if item % 2 == 0 else \"odd num : \" + str(item) for item in listNumbers]"
   ]
  },
  {
   "cell_type": "code",
   "execution_count": 49,
   "id": "75589de0",
   "metadata": {},
   "outputs": [
    {
     "data": {
      "text/plain": [
       "[4, 5]"
      ]
     },
     "execution_count": 49,
     "metadata": {},
     "output_type": "execute_result"
    }
   ],
   "source": [
    "#print using slicing \n",
    "listNumbers[3:5]"
   ]
  },
  {
   "cell_type": "code",
   "execution_count": 50,
   "id": "385748bf",
   "metadata": {},
   "outputs": [
    {
     "data": {
      "text/plain": [
       "[9, 8, 7, 6, 5, 4, 3, 2, 1]"
      ]
     },
     "execution_count": 50,
     "metadata": {},
     "output_type": "execute_result"
    }
   ],
   "source": [
    "#reverse the list \n",
    "listNumbers[::-1]"
   ]
  },
  {
   "cell_type": "code",
   "execution_count": 51,
   "id": "82361808",
   "metadata": {},
   "outputs": [
    {
     "data": {
      "text/plain": [
       "[1, 3, 5]"
      ]
     },
     "execution_count": 51,
     "metadata": {},
     "output_type": "execute_result"
    }
   ],
   "source": [
    "#slicing with odd item \n",
    "listNumbers[0:5:2]"
   ]
  },
  {
   "cell_type": "code",
   "execution_count": 52,
   "id": "9c887349",
   "metadata": {},
   "outputs": [
    {
     "data": {
      "text/plain": [
       "['boy', 'girl', ['radio', 'mobile']]"
      ]
     },
     "execution_count": 52,
     "metadata": {},
     "output_type": "execute_result"
    }
   ],
   "source": [
    "#create two list and merge \n",
    "list1 = ['boy', 'girl']\n",
    "list2 = ['radio','mobile']\n",
    "list1Copy = list1.copy()\n",
    "list2Copy = list2.copy()\n",
    "list1.append(list2) # append as list (nested list )\n",
    "list1"
   ]
  },
  {
   "cell_type": "code",
   "execution_count": 53,
   "id": "352fa817",
   "metadata": {},
   "outputs": [],
   "source": [
    "#use extend function \n",
    "list1Copy.extend(list2Copy)"
   ]
  },
  {
   "cell_type": "code",
   "execution_count": 54,
   "id": "1d95a19f",
   "metadata": {},
   "outputs": [
    {
     "data": {
      "text/plain": [
       "['boy', 'girl', 'radio', 'mobile']"
      ]
     },
     "execution_count": 54,
     "metadata": {},
     "output_type": "execute_result"
    }
   ],
   "source": [
    "list1Copy"
   ]
  },
  {
   "cell_type": "code",
   "execution_count": 55,
   "id": "a0ed7f4a",
   "metadata": {},
   "outputs": [
    {
     "data": {
      "text/plain": [
       "['girl', 'radio', 'mobile']"
      ]
     },
     "execution_count": 55,
     "metadata": {},
     "output_type": "execute_result"
    }
   ],
   "source": [
    "#remove boy from list1Copy \n",
    "list1Copy.remove('boy')\n",
    "list1Copy"
   ]
  },
  {
   "cell_type": "code",
   "execution_count": 56,
   "id": "9f064933",
   "metadata": {},
   "outputs": [
    {
     "data": {
      "text/plain": [
       "['Boy', 'girl', 'radio', 'mobile']"
      ]
     },
     "execution_count": 56,
     "metadata": {},
     "output_type": "execute_result"
    }
   ],
   "source": [
    "list1Copy.insert(0, 'Boy')\n",
    "list1Copy"
   ]
  },
  {
   "cell_type": "code",
   "execution_count": 57,
   "id": "e2298201",
   "metadata": {},
   "outputs": [
    {
     "data": {
      "text/plain": [
       "['Boy', 'girl', 'radio']"
      ]
     },
     "execution_count": 57,
     "metadata": {},
     "output_type": "execute_result"
    }
   ],
   "source": [
    "list1Copy.pop() # remove last item \n",
    "list1Copy"
   ]
  },
  {
   "cell_type": "code",
   "execution_count": 58,
   "id": "a1ee67b9",
   "metadata": {},
   "outputs": [
    {
     "data": {
      "text/plain": [
       "'radio'"
      ]
     },
     "execution_count": 58,
     "metadata": {},
     "output_type": "execute_result"
    }
   ],
   "source": [
    "list1Copy.pop(2) # removed items in teh index 2"
   ]
  },
  {
   "cell_type": "code",
   "execution_count": 59,
   "id": "7c8efbf4",
   "metadata": {},
   "outputs": [
    {
     "data": {
      "text/plain": [
       "['Boy', 'girl']"
      ]
     },
     "execution_count": 59,
     "metadata": {},
     "output_type": "execute_result"
    }
   ],
   "source": [
    "list1Copy"
   ]
  },
  {
   "cell_type": "code",
   "execution_count": 60,
   "id": "34c2c383",
   "metadata": {},
   "outputs": [
    {
     "data": {
      "text/plain": [
       "['girl']"
      ]
     },
     "execution_count": 60,
     "metadata": {},
     "output_type": "execute_result"
    }
   ],
   "source": [
    "del list1Copy[0]\n",
    "list1Copy"
   ]
  },
  {
   "cell_type": "code",
   "execution_count": 61,
   "id": "dbe041db",
   "metadata": {},
   "outputs": [],
   "source": [
    "list1Copy.clear()"
   ]
  },
  {
   "cell_type": "code",
   "execution_count": 62,
   "id": "aa7a3eca",
   "metadata": {},
   "outputs": [],
   "source": [
    "del list1Copy"
   ]
  },
  {
   "cell_type": "code",
   "execution_count": 63,
   "id": "b97a6a06",
   "metadata": {},
   "outputs": [],
   "source": [
    "#re-create teh list \n",
    "list1Copy = [ 'radio','girl','moble','boy','telivision']\n",
    "#sort the list \n",
    "list1Copy.sort()"
   ]
  },
  {
   "cell_type": "code",
   "execution_count": 64,
   "id": "d35e3e56",
   "metadata": {},
   "outputs": [
    {
     "data": {
      "text/plain": [
       "['boy', 'girl', 'moble', 'radio', 'telivision']"
      ]
     },
     "execution_count": 64,
     "metadata": {},
     "output_type": "execute_result"
    }
   ],
   "source": [
    "list1Copy"
   ]
  },
  {
   "cell_type": "code",
   "execution_count": 65,
   "id": "3fb548cb",
   "metadata": {},
   "outputs": [],
   "source": [
    "list1Copy.reverse()"
   ]
  },
  {
   "cell_type": "code",
   "execution_count": 66,
   "id": "ef412d32",
   "metadata": {},
   "outputs": [
    {
     "data": {
      "text/plain": [
       "['telivision', 'radio', 'moble', 'girl', 'boy']"
      ]
     },
     "execution_count": 66,
     "metadata": {},
     "output_type": "execute_result"
    }
   ],
   "source": [
    "list1Copy"
   ]
  },
  {
   "cell_type": "code",
   "execution_count": 67,
   "id": "afa35557",
   "metadata": {},
   "outputs": [
    {
     "data": {
      "text/plain": [
       "['one', 'two', 'three', 1, 2, 3]"
      ]
     },
     "execution_count": 67,
     "metadata": {},
     "output_type": "execute_result"
    }
   ],
   "source": [
    "#merge two list \n",
    "list1NumbersInWords = [\"one\", 'two',\"three\"]\n",
    "list2NumbersInDecimal = [1,2,3]\n",
    "list1NumbersInWords + list2NumbersInDecimal"
   ]
  },
  {
   "cell_type": "code",
   "execution_count": 68,
   "id": "4dba6237",
   "metadata": {},
   "outputs": [
    {
     "name": "stdout",
     "output_type": "stream",
     "text": [
      "original list :  [(1, 'one'), (2, 'one'), (3, 'three'), (4, 'four')]\n"
     ]
    }
   ],
   "source": [
    "#unziping : https://www.geeksforgeeks.org/python-unzip-a-list-of-tuples/\n",
    "#list ziping and unziping \n",
    "#apply ziping \n",
    "listOriginal = [(1, 'one'), (2,'one'),(3,'three'),(4,'four')]\n",
    "print('original list : ', listOriginal)"
   ]
  },
  {
   "cell_type": "code",
   "execution_count": 69,
   "id": "0ff3cb46",
   "metadata": {},
   "outputs": [
    {
     "data": {
      "text/plain": [
       "[(1, 2, 3, 4), ('one', 'one', 'three', 'four')]"
      ]
     },
     "execution_count": 69,
     "metadata": {},
     "output_type": "execute_result"
    }
   ],
   "source": [
    "#apply upziping \n",
    "list(zip(*listOriginal))"
   ]
  },
  {
   "cell_type": "code",
   "execution_count": 70,
   "id": "51495332",
   "metadata": {},
   "outputs": [
    {
     "data": {
      "text/plain": [
       "[('one', 1), ('two', 2), ('three', 3), ('four', 4), ('five', 5)]"
      ]
     },
     "execution_count": 70,
     "metadata": {},
     "output_type": "execute_result"
    }
   ],
   "source": [
    "#apply ziping\n",
    "list1Numbers = ['one','two','three','four','five']\n",
    "list2Numbers = [1,2,3,4,5]\n",
    "list(zip(list1Numbers, list2Numbers))"
   ]
  },
  {
   "cell_type": "markdown",
   "id": "e4299703",
   "metadata": {},
   "source": [
    "### 7. Tuples"
   ]
  },
  {
   "cell_type": "code",
   "execution_count": 71,
   "id": "423dc6c9",
   "metadata": {},
   "outputs": [],
   "source": [
    "tuple1 = ('hotel', 45, True, 34.23)\n",
    "tuple2 = ('orange', (12).to_bytes(5, 'big'))"
   ]
  },
  {
   "cell_type": "code",
   "execution_count": 72,
   "id": "7d71b31e",
   "metadata": {},
   "outputs": [
    {
     "data": {
      "text/plain": [
       "('orange', b'\\x00\\x00\\x00\\x00\\x0c')"
      ]
     },
     "execution_count": 72,
     "metadata": {},
     "output_type": "execute_result"
    }
   ],
   "source": [
    "tuple2"
   ]
  },
  {
   "cell_type": "code",
   "execution_count": 73,
   "id": "9727bb94",
   "metadata": {},
   "outputs": [
    {
     "data": {
      "text/plain": [
       "['hotel', 45, True, 34.23]"
      ]
     },
     "execution_count": 73,
     "metadata": {},
     "output_type": "execute_result"
    }
   ],
   "source": [
    "[item for item in tuple1]"
   ]
  },
  {
   "cell_type": "code",
   "execution_count": 74,
   "id": "cef5e04e",
   "metadata": {},
   "outputs": [
    {
     "name": "stdout",
     "output_type": "stream",
     "text": [
      "True exist in tuple1\n"
     ]
    }
   ],
   "source": [
    "if True in tuple1:\n",
    "    print(\"True exist in tuple1\")"
   ]
  },
  {
   "cell_type": "code",
   "execution_count": 75,
   "id": "614cd408",
   "metadata": {},
   "outputs": [
    {
     "data": {
      "text/plain": [
       "('hotel', 45, True, 34.23)"
      ]
     },
     "execution_count": 75,
     "metadata": {},
     "output_type": "execute_result"
    }
   ],
   "source": [
    "#modify the tuple element\n",
    "tuple1\n"
   ]
  },
  {
   "cell_type": "code",
   "execution_count": 76,
   "id": "ea763897",
   "metadata": {},
   "outputs": [
    {
     "data": {
      "text/plain": [
       "('Banana Leaf Hotel', 45, True, 34.23)"
      ]
     },
     "execution_count": 76,
     "metadata": {},
     "output_type": "execute_result"
    }
   ],
   "source": [
    "listTemp = list(tuple1)\n",
    "listTemp [0] = 'Banana Leaf Hotel'\n",
    "tuple1 = tuple(listTemp)\n",
    "tuple1"
   ]
  },
  {
   "cell_type": "code",
   "execution_count": 77,
   "id": "ea0f6707",
   "metadata": {
    "scrolled": true
   },
   "outputs": [
    {
     "data": {
      "text/plain": [
       "('Banana Leaf Hotel', 45, True, 34.23, 'orange', b'\\x00\\x00\\x00\\x00\\x0c')"
      ]
     },
     "execution_count": 77,
     "metadata": {},
     "output_type": "execute_result"
    }
   ],
   "source": [
    "#add two tuples \n",
    "tuple1 + tuple2"
   ]
  },
  {
   "cell_type": "code",
   "execution_count": 78,
   "id": "8bf2d163",
   "metadata": {},
   "outputs": [
    {
     "data": {
      "text/plain": [
       "('Banana Leaf Hotel', 45, True, 34.23, 'Banana Leaf Hotel', 45, True, 34.23)"
      ]
     },
     "execution_count": 78,
     "metadata": {},
     "output_type": "execute_result"
    }
   ],
   "source": [
    "#multiply\n",
    "tuple1 * 2"
   ]
  },
  {
   "cell_type": "markdown",
   "id": "7e111d69",
   "metadata": {},
   "source": [
    "### 8. Sets"
   ]
  },
  {
   "cell_type": "code",
   "execution_count": 79,
   "id": "5ebb8008",
   "metadata": {},
   "outputs": [],
   "source": [
    "setFruits1 = {'orange', 'banana', 'apple', 'cherry'}\n",
    "setFruits2 = {'mango', 'jackfruit', 'orange', 'apple'}\n"
   ]
  },
  {
   "cell_type": "code",
   "execution_count": 80,
   "id": "fe354fa5",
   "metadata": {},
   "outputs": [
    {
     "data": {
      "text/plain": [
       "{'apple', 'banana', 'cherry', 'jackfruit', 'mango', 'orange'}"
      ]
     },
     "execution_count": 80,
     "metadata": {},
     "output_type": "execute_result"
    }
   ],
   "source": [
    "#union (all fruites)\n",
    "setFruits1.union(setFruits2)"
   ]
  },
  {
   "cell_type": "code",
   "execution_count": 81,
   "id": "18828224",
   "metadata": {},
   "outputs": [
    {
     "data": {
      "text/plain": [
       "{'apple', 'orange'}"
      ]
     },
     "execution_count": 81,
     "metadata": {},
     "output_type": "execute_result"
    }
   ],
   "source": [
    "#intersection (only common fruits)\n",
    "setFruits1.intersection(setFruits2)"
   ]
  },
  {
   "cell_type": "code",
   "execution_count": 82,
   "id": "53258cdf",
   "metadata": {},
   "outputs": [],
   "source": [
    "#update (I.E etend the list)\n",
    "setFruits1.update(setFruits2)"
   ]
  },
  {
   "cell_type": "code",
   "execution_count": 83,
   "id": "26a19203",
   "metadata": {},
   "outputs": [
    {
     "data": {
      "text/plain": [
       "{'apple', 'banana', 'cherry', 'jackfruit', 'mango', 'orange'}"
      ]
     },
     "execution_count": 83,
     "metadata": {},
     "output_type": "execute_result"
    }
   ],
   "source": [
    "setFruits1"
   ]
  },
  {
   "cell_type": "code",
   "execution_count": 84,
   "id": "1e158a87",
   "metadata": {},
   "outputs": [],
   "source": [
    "setFruits1 = {'orange', 'banana', 'apple', 'cherry'}\n",
    "setFruits2 = {'mango', 'jackfruit', 'orange', 'apple'}\n",
    "setFruits1.intersection_update(setFruits2) # remove the non-common items from the set"
   ]
  },
  {
   "cell_type": "code",
   "execution_count": 85,
   "id": "ece7e43a",
   "metadata": {},
   "outputs": [
    {
     "data": {
      "text/plain": [
       "{'apple', 'orange'}"
      ]
     },
     "execution_count": 85,
     "metadata": {},
     "output_type": "execute_result"
    }
   ],
   "source": [
    "setFruits1 "
   ]
  },
  {
   "cell_type": "code",
   "execution_count": 86,
   "id": "a7cfaa69",
   "metadata": {},
   "outputs": [
    {
     "data": {
      "text/plain": [
       "{'banana', 'cherry'}"
      ]
     },
     "execution_count": 86,
     "metadata": {},
     "output_type": "execute_result"
    }
   ],
   "source": [
    "setFruits1 = {'orange', 'banana', 'apple', 'cherry'}\n",
    "setFruits2 = {'mango', 'jackfruit', 'orange', 'apple'}\n",
    "setFruits1.difference(setFruits2) # return teh difference "
   ]
  },
  {
   "cell_type": "code",
   "execution_count": 87,
   "id": "f742602d",
   "metadata": {},
   "outputs": [
    {
     "data": {
      "text/plain": [
       "{'banana', 'cherry', 'jackfruit', 'mango'}"
      ]
     },
     "execution_count": 87,
     "metadata": {},
     "output_type": "execute_result"
    }
   ],
   "source": [
    "setFruits1 = {'orange', 'banana', 'apple', 'cherry'}\n",
    "setFruits2 = {'mango', 'jackfruit', 'orange', 'apple'}\n",
    "setFruits1.symmetric_difference(setFruits2) # return the un-common from both the list"
   ]
  },
  {
   "cell_type": "code",
   "execution_count": 88,
   "id": "3fc9eecf",
   "metadata": {},
   "outputs": [],
   "source": [
    "setFruits1 = {'orange', 'banana', 'apple', 'cherry'}\n",
    "setFruits2 = {'mango', 'jackfruit', 'orange', 'apple'}\n",
    "setFruits1.symmetric_difference_update(setFruits2) # update with symmetric difference"
   ]
  },
  {
   "cell_type": "code",
   "execution_count": 89,
   "id": "9bd04aad",
   "metadata": {},
   "outputs": [
    {
     "data": {
      "text/plain": [
       "{'banana', 'cherry', 'jackfruit', 'mango'}"
      ]
     },
     "execution_count": 89,
     "metadata": {},
     "output_type": "execute_result"
    }
   ],
   "source": [
    "setFruits1"
   ]
  },
  {
   "cell_type": "markdown",
   "id": "8532f279",
   "metadata": {},
   "source": [
    "### 9. Dictionaries"
   ]
  },
  {
   "cell_type": "code",
   "execution_count": 90,
   "id": "0d1b0c4e",
   "metadata": {},
   "outputs": [
    {
     "data": {
      "text/plain": [
       "{'Hencil': 'Indian', 'Tom': 'American', 'Nick': 'Vietnamise'}"
      ]
     },
     "execution_count": 90,
     "metadata": {},
     "output_type": "execute_result"
    }
   ],
   "source": [
    "dictNameCitizenship = {'Hencil': 'Indian', 'Tom': 'American', 'Nick':'Vietnamise'}\n",
    "dictNameCitizenship"
   ]
  },
  {
   "cell_type": "code",
   "execution_count": 91,
   "id": "46913231",
   "metadata": {},
   "outputs": [],
   "source": [
    "dictNameCitizenship.update({'Kathy':'England'})"
   ]
  },
  {
   "cell_type": "code",
   "execution_count": 92,
   "id": "ed58dca6",
   "metadata": {},
   "outputs": [
    {
     "data": {
      "text/plain": [
       "{'Hencil': 'Indian',\n",
       " 'Tom': 'American',\n",
       " 'Nick': 'Vietnamise',\n",
       " 'Kathy': 'England'}"
      ]
     },
     "execution_count": 92,
     "metadata": {},
     "output_type": "execute_result"
    }
   ],
   "source": [
    "dictNameCitizenship"
   ]
  },
  {
   "cell_type": "code",
   "execution_count": 93,
   "id": "b7897353",
   "metadata": {},
   "outputs": [
    {
     "data": {
      "text/plain": [
       "dict_values(['Indian', 'American', 'Vietnamise', 'England'])"
      ]
     },
     "execution_count": 93,
     "metadata": {},
     "output_type": "execute_result"
    }
   ],
   "source": [
    "#print values \n",
    "dictNameCitizenship.values()"
   ]
  },
  {
   "cell_type": "code",
   "execution_count": 94,
   "id": "954591f5",
   "metadata": {},
   "outputs": [
    {
     "data": {
      "text/plain": [
       "dict_keys(['Hencil', 'Tom', 'Nick', 'Kathy'])"
      ]
     },
     "execution_count": 94,
     "metadata": {},
     "output_type": "execute_result"
    }
   ],
   "source": [
    "#print keys \n",
    "dictNameCitizenship.keys()"
   ]
  },
  {
   "cell_type": "code",
   "execution_count": 95,
   "id": "148f9851",
   "metadata": {},
   "outputs": [
    {
     "data": {
      "text/plain": [
       "dict_items([('Hencil', 'Indian'), ('Tom', 'American'), ('Nick', 'Vietnamise'), ('Kathy', 'England')])"
      ]
     },
     "execution_count": 95,
     "metadata": {},
     "output_type": "execute_result"
    }
   ],
   "source": [
    "#items \n",
    "dictNameCitizenship.items()"
   ]
  },
  {
   "cell_type": "code",
   "execution_count": 96,
   "id": "dfdd9a5b",
   "metadata": {},
   "outputs": [
    {
     "data": {
      "text/plain": [
       "'Indian'"
      ]
     },
     "execution_count": 96,
     "metadata": {},
     "output_type": "execute_result"
    }
   ],
   "source": [
    "dictNameCitizenship['Hencil']"
   ]
  },
  {
   "cell_type": "code",
   "execution_count": 97,
   "id": "09a40ef0",
   "metadata": {},
   "outputs": [],
   "source": [
    "dictNameCitizenship['Mani'] = 'Srilankan'"
   ]
  },
  {
   "cell_type": "code",
   "execution_count": 98,
   "id": "b635951e",
   "metadata": {},
   "outputs": [
    {
     "data": {
      "text/plain": [
       "{'Hencil': 'Indian',\n",
       " 'Tom': 'American',\n",
       " 'Nick': 'Vietnamise',\n",
       " 'Kathy': 'England',\n",
       " 'Mani': 'Srilankan'}"
      ]
     },
     "execution_count": 98,
     "metadata": {},
     "output_type": "execute_result"
    }
   ],
   "source": [
    "dictNameCitizenship"
   ]
  },
  {
   "cell_type": "code",
   "execution_count": 99,
   "id": "5d75866a",
   "metadata": {},
   "outputs": [
    {
     "data": {
      "text/plain": [
       "5"
      ]
     },
     "execution_count": 99,
     "metadata": {},
     "output_type": "execute_result"
    }
   ],
   "source": [
    "len(dictNameCitizenship)"
   ]
  },
  {
   "cell_type": "code",
   "execution_count": 100,
   "id": "6ba5f60f",
   "metadata": {},
   "outputs": [
    {
     "data": {
      "text/plain": [
       "'American'"
      ]
     },
     "execution_count": 100,
     "metadata": {},
     "output_type": "execute_result"
    }
   ],
   "source": [
    "#remove item\n",
    "dictNameCitizenship.pop('Tom')"
   ]
  },
  {
   "cell_type": "code",
   "execution_count": 101,
   "id": "deaa0c4d",
   "metadata": {},
   "outputs": [
    {
     "data": {
      "text/plain": [
       "{'Hencil': 'Indian',\n",
       " 'Nick': 'Vietnamise',\n",
       " 'Kathy': 'England',\n",
       " 'Mani': 'Srilankan'}"
      ]
     },
     "execution_count": 101,
     "metadata": {},
     "output_type": "execute_result"
    }
   ],
   "source": [
    "dictNameCitizenship"
   ]
  },
  {
   "cell_type": "code",
   "execution_count": 102,
   "id": "be8651d5",
   "metadata": {},
   "outputs": [],
   "source": [
    "del dictNameCitizenship['Mani']"
   ]
  },
  {
   "cell_type": "code",
   "execution_count": 103,
   "id": "bb630e8f",
   "metadata": {},
   "outputs": [
    {
     "data": {
      "text/plain": [
       "{'Hencil': 'Indian', 'Nick': 'Vietnamise', 'Kathy': 'England'}"
      ]
     },
     "execution_count": 103,
     "metadata": {},
     "output_type": "execute_result"
    }
   ],
   "source": [
    "dictNameCitizenship"
   ]
  },
  {
   "cell_type": "code",
   "execution_count": 104,
   "id": "89085307",
   "metadata": {},
   "outputs": [],
   "source": [
    "dictNameCitizenship.clear()"
   ]
  },
  {
   "cell_type": "code",
   "execution_count": 105,
   "id": "af5ff052",
   "metadata": {},
   "outputs": [],
   "source": [
    "#create nested dictionary \n",
    "dictNested = {'Street' : 'Bedok North Road', 'BLK' : 422, 'country' : 'Singapore'}\n",
    "dictOuter =  {'Tom' : dictNested, 'Lily' : dictNested}"
   ]
  },
  {
   "cell_type": "code",
   "execution_count": 106,
   "id": "ce726d6b",
   "metadata": {},
   "outputs": [
    {
     "data": {
      "text/plain": [
       "{'Tom': {'Street': 'Bedok North Road', 'BLK': 422, 'country': 'Singapore'},\n",
       " 'Lily': {'Street': 'Bedok North Road', 'BLK': 422, 'country': 'Singapore'}}"
      ]
     },
     "execution_count": 106,
     "metadata": {},
     "output_type": "execute_result"
    }
   ],
   "source": [
    "dictOuter"
   ]
  },
  {
   "cell_type": "markdown",
   "id": "77e500d1",
   "metadata": {},
   "source": [
    "### 10. if/elif/else - nested if \n"
   ]
  },
  {
   "cell_type": "code",
   "execution_count": 107,
   "id": "a83bae85",
   "metadata": {},
   "outputs": [
    {
     "name": "stdout",
     "output_type": "stream",
     "text": [
      "a is not equal to b and c\n"
     ]
    }
   ],
   "source": [
    "a = 10\n",
    "b = 5\n",
    "c = 5\n",
    "\n",
    "#if/elif/else\n",
    "if a == b:\n",
    "    print(\"a equals b\")\n",
    "elif a == c:\n",
    "    print(\"a equals c\")\n",
    "else:\n",
    "    print(\"a is not equal to b and c\")"
   ]
  },
  {
   "cell_type": "code",
   "execution_count": 108,
   "id": "81e6e79f",
   "metadata": {},
   "outputs": [
    {
     "name": "stdout",
     "output_type": "stream",
     "text": [
      " a == 10 and b and c are equal\n"
     ]
    }
   ],
   "source": [
    "#nested if\n",
    "if a == 10:\n",
    "    if b == c:\n",
    "        print(' a == 10 and b and c are equal')"
   ]
  },
  {
   "cell_type": "markdown",
   "id": "8fb0f9ef",
   "metadata": {},
   "source": [
    "### 11. for and while loop "
   ]
  },
  {
   "cell_type": "code",
   "execution_count": 109,
   "id": "6314df1f",
   "metadata": {},
   "outputs": [
    {
     "name": "stdout",
     "output_type": "stream",
     "text": [
      "count value =  1\n",
      "count value =  2\n",
      "even number :  2\n",
      "count value =  3\n",
      "count value =  4\n",
      "even number :  4\n",
      "count value =  5\n",
      "count value =  6\n",
      "even number :  6\n",
      "count value =  7\n",
      "count value =  8\n",
      "even number :  8\n",
      "count value =  9\n",
      "break executed\n"
     ]
    }
   ],
   "source": [
    "# while loop with break, continue and pass\n",
    "count = 0\n",
    "#print only even numbers \n",
    "while count < 100:\n",
    "    count += 1\n",
    "    print(\"count value = \", count)\n",
    "    \n",
    "    if count == 9:\n",
    "        print(\"break executed\")\n",
    "        break\n",
    "        \n",
    "    if count % 2 ==1 :\n",
    "        continue;\n",
    "    \n",
    "    if count % 2 == 0 :\n",
    "        print(\"even number : \", count)\n",
    "        \n",
    "    if count == 5:\n",
    "        pass\n",
    "    \n",
    "    "
   ]
  },
  {
   "cell_type": "markdown",
   "id": "42e89e05",
   "metadata": {},
   "source": [
    "### 12. Function/Lambda function \n"
   ]
  },
  {
   "cell_type": "code",
   "execution_count": 110,
   "id": "9bf824d4",
   "metadata": {},
   "outputs": [],
   "source": [
    "#simple funtion \n",
    "def simpleFunction():\n",
    "    print(\"Simple function call\")"
   ]
  },
  {
   "cell_type": "code",
   "execution_count": 111,
   "id": "f5bc90f9",
   "metadata": {},
   "outputs": [
    {
     "name": "stdout",
     "output_type": "stream",
     "text": [
      "Simple function call\n"
     ]
    }
   ],
   "source": [
    "simpleFunction()"
   ]
  },
  {
   "cell_type": "code",
   "execution_count": 112,
   "id": "88e3dd89",
   "metadata": {},
   "outputs": [],
   "source": [
    "def squareValue(n):\n",
    "    return n*n;"
   ]
  },
  {
   "cell_type": "code",
   "execution_count": 113,
   "id": "5ca8f96f",
   "metadata": {},
   "outputs": [
    {
     "data": {
      "text/plain": [
       "25"
      ]
     },
     "execution_count": 113,
     "metadata": {},
     "output_type": "execute_result"
    }
   ],
   "source": [
    "squareValue(5)"
   ]
  },
  {
   "cell_type": "code",
   "execution_count": 114,
   "id": "583bfe4e",
   "metadata": {},
   "outputs": [],
   "source": [
    "#arbitrary argument functions \n",
    "def arbitraryArgFunctions(*args):\n",
    "    for arg in args:\n",
    "        print(f\"argName = {arg} \")"
   ]
  },
  {
   "cell_type": "code",
   "execution_count": 115,
   "id": "ae2138b0",
   "metadata": {},
   "outputs": [
    {
     "name": "stdout",
     "output_type": "stream",
     "text": [
      "argName = one \n",
      "argName = two \n",
      "argName = three \n",
      "argName = 1 \n"
     ]
    }
   ],
   "source": [
    "arbitraryArgFunctions(\"one\", \"two\",\"three\",1)"
   ]
  },
  {
   "cell_type": "code",
   "execution_count": 116,
   "id": "a4cd4a74",
   "metadata": {},
   "outputs": [],
   "source": [
    "#keyword argument function \n",
    "def keywordArgumentFunction(**kArgs):\n",
    "     for argName in kArgs:\n",
    "            print(f\"argName = {argName} , argValue = {kArgs[argName]}\")"
   ]
  },
  {
   "cell_type": "code",
   "execution_count": 117,
   "id": "10adfe38",
   "metadata": {},
   "outputs": [
    {
     "name": "stdout",
     "output_type": "stream",
     "text": [
      "argName = name1 , argValue = Hencil\n",
      "argName = name2 , argValue = Peter\n",
      "argName = name3 , argValue = Joseph\n"
     ]
    }
   ],
   "source": [
    "keywordArgumentFunction(name1=\"Hencil\", name2=\"Peter\", name3=\"Joseph\")"
   ]
  },
  {
   "cell_type": "code",
   "execution_count": 118,
   "id": "91f303dc",
   "metadata": {},
   "outputs": [],
   "source": [
    "#default argument function \n",
    "def functionwithDefaultArg(arg=\"No argument\"):\n",
    "    print(arg)"
   ]
  },
  {
   "cell_type": "code",
   "execution_count": 119,
   "id": "daac3cd7",
   "metadata": {},
   "outputs": [
    {
     "name": "stdout",
     "output_type": "stream",
     "text": [
      "No argument\n"
     ]
    }
   ],
   "source": [
    "functionwithDefaultArg()"
   ]
  },
  {
   "cell_type": "code",
   "execution_count": 120,
   "id": "53d8fa4e",
   "metadata": {},
   "outputs": [
    {
     "name": "stdout",
     "output_type": "stream",
     "text": [
      "Test\n"
     ]
    }
   ],
   "source": [
    "functionwithDefaultArg(\"Test\")"
   ]
  },
  {
   "cell_type": "code",
   "execution_count": 121,
   "id": "02f86461",
   "metadata": {},
   "outputs": [],
   "source": [
    "#recursive function \n",
    "def funcFact(n):\n",
    "    if n <= 1:\n",
    "        return 1\n",
    "    else:\n",
    "        return n * funcFact(n-1)"
   ]
  },
  {
   "cell_type": "code",
   "execution_count": 122,
   "id": "91c2d345",
   "metadata": {},
   "outputs": [
    {
     "data": {
      "text/plain": [
       "120"
      ]
     },
     "execution_count": 122,
     "metadata": {},
     "output_type": "execute_result"
    }
   ],
   "source": [
    "funcFact(5)"
   ]
  },
  {
   "cell_type": "code",
   "execution_count": 123,
   "id": "3e381469",
   "metadata": {},
   "outputs": [],
   "source": [
    "#lambda function \n",
    "squreLambda = lambda n: n* n"
   ]
  },
  {
   "cell_type": "code",
   "execution_count": 124,
   "id": "be0c9749",
   "metadata": {},
   "outputs": [
    {
     "data": {
      "text/plain": [
       "25"
      ]
     },
     "execution_count": 124,
     "metadata": {},
     "output_type": "execute_result"
    }
   ],
   "source": [
    "squreLambda(5)"
   ]
  },
  {
   "cell_type": "code",
   "execution_count": 125,
   "id": "a49c8d4f",
   "metadata": {},
   "outputs": [],
   "source": [
    "aditionLambda = lambda a, b : a + b"
   ]
  },
  {
   "cell_type": "code",
   "execution_count": 126,
   "id": "6d508b64",
   "metadata": {},
   "outputs": [
    {
     "data": {
      "text/plain": [
       "5"
      ]
     },
     "execution_count": 126,
     "metadata": {},
     "output_type": "execute_result"
    }
   ],
   "source": [
    "aditionLambda(2,3)"
   ]
  },
  {
   "cell_type": "markdown",
   "id": "4ca98564",
   "metadata": {},
   "source": [
    "### 13. Class object\n"
   ]
  },
  {
   "cell_type": "code",
   "execution_count": 127,
   "id": "d23ac209",
   "metadata": {},
   "outputs": [],
   "source": [
    "class BasicClass:\n",
    "    def __init__(self,a,b):\n",
    "        self.a = a\n",
    "        self.b = b\n",
    "    def printMembers(self):\n",
    "        print(f\"a = {a}, b = {b}\")"
   ]
  },
  {
   "cell_type": "code",
   "execution_count": 128,
   "id": "4fa64486",
   "metadata": {},
   "outputs": [
    {
     "name": "stdout",
     "output_type": "stream",
     "text": [
      "a = 10, b = 5\n"
     ]
    }
   ],
   "source": [
    "simpleObject = BasicClass(10,20)\n",
    "simpleObject.printMembers()"
   ]
  },
  {
   "cell_type": "code",
   "execution_count": 129,
   "id": "72707639",
   "metadata": {},
   "outputs": [],
   "source": [
    "del simpleObject.a"
   ]
  },
  {
   "cell_type": "code",
   "execution_count": 130,
   "id": "d1908833",
   "metadata": {},
   "outputs": [
    {
     "name": "stdout",
     "output_type": "stream",
     "text": [
      "a = 10, b = 5\n"
     ]
    }
   ],
   "source": [
    "simpleObject.printMembers()  # todo : how the a is still appearing"
   ]
  },
  {
   "cell_type": "code",
   "execution_count": 131,
   "id": "00b7e4d8",
   "metadata": {},
   "outputs": [],
   "source": [
    "del simpleObject"
   ]
  },
  {
   "cell_type": "markdown",
   "id": "8ae750c5",
   "metadata": {},
   "source": [
    "### 14. Inheritance"
   ]
  },
  {
   "cell_type": "code",
   "execution_count": 3,
   "id": "399ff5cd",
   "metadata": {},
   "outputs": [
    {
     "name": "stdout",
     "output_type": "stream",
     "text": [
      "a = 10 , b = 20, c = default\n"
     ]
    }
   ],
   "source": [
    "class Parent:\n",
    "    def __init__(self, a, b):\n",
    "        self.a = a\n",
    "        self.b = b\n",
    "        self.c = \"default\"\n",
    "        \n",
    "    def printValues(self):\n",
    "        print(f\"a = {self.a} , b = {self.b}, c = {self.c}\")\n",
    "\n",
    "objParent = Parent(10,20)\n",
    "objParent.printValues()\n"
   ]
  },
  {
   "cell_type": "code",
   "execution_count": 2,
   "id": "6f566982",
   "metadata": {},
   "outputs": [
    {
     "name": "stdout",
     "output_type": "stream",
     "text": [
      "a = 10 , b = 20, c = default\n"
     ]
    }
   ],
   "source": [
    "objParent = Parent(10,20)\n",
    "objParent.printValues()"
   ]
  },
  {
   "cell_type": "code",
   "execution_count": 133,
   "id": "e326bcc6",
   "metadata": {},
   "outputs": [],
   "source": [
    "class Child(Parent):\n",
    "    def __init__(self, a,b,d):\n",
    "        super().__init__(a,b)\n",
    "        #Parent.__init__(a,b)\n",
    "        self.d =d \n",
    "    \n",
    "    def printValues(self):\n",
    "        super().printValues()\n",
    "        print(self.d)"
   ]
  },
  {
   "cell_type": "code",
   "execution_count": 134,
   "id": "72e75434",
   "metadata": {},
   "outputs": [],
   "source": [
    "childObject = Child(1,2,3)"
   ]
  },
  {
   "cell_type": "code",
   "execution_count": 135,
   "id": "7387f048",
   "metadata": {},
   "outputs": [
    {
     "name": "stdout",
     "output_type": "stream",
     "text": [
      "a = 1 , b = 2, c = default\n",
      "3\n"
     ]
    }
   ],
   "source": [
    "childObject.printValues()"
   ]
  },
  {
   "cell_type": "markdown",
   "id": "29494852",
   "metadata": {},
   "source": [
    "### 15. Iterator"
   ]
  },
  {
   "cell_type": "code",
   "execution_count": 136,
   "id": "e6e81a6f",
   "metadata": {},
   "outputs": [],
   "source": [
    "simpleTuple = ('play school', 'kinder garten', 'primary', 'secondary', 'college')\n"
   ]
  },
  {
   "cell_type": "code",
   "execution_count": 137,
   "id": "ea669f28",
   "metadata": {},
   "outputs": [],
   "source": [
    "tupIter = iter(simpleTuple)"
   ]
  },
  {
   "cell_type": "code",
   "execution_count": 138,
   "id": "bd630c01",
   "metadata": {},
   "outputs": [
    {
     "data": {
      "text/plain": [
       "'play school'"
      ]
     },
     "execution_count": 138,
     "metadata": {},
     "output_type": "execute_result"
    }
   ],
   "source": [
    "next(tupIter)"
   ]
  },
  {
   "cell_type": "code",
   "execution_count": 139,
   "id": "f9489aeb",
   "metadata": {},
   "outputs": [
    {
     "data": {
      "text/plain": [
       "'kinder garten'"
      ]
     },
     "execution_count": 139,
     "metadata": {},
     "output_type": "execute_result"
    }
   ],
   "source": [
    "next(tupIter)"
   ]
  },
  {
   "cell_type": "code",
   "execution_count": 140,
   "id": "09cd0d45",
   "metadata": {},
   "outputs": [
    {
     "data": {
      "text/plain": [
       "'primary'"
      ]
     },
     "execution_count": 140,
     "metadata": {},
     "output_type": "execute_result"
    }
   ],
   "source": [
    "next(tupIter)"
   ]
  },
  {
   "cell_type": "code",
   "execution_count": 141,
   "id": "5b73c41f",
   "metadata": {},
   "outputs": [
    {
     "data": {
      "text/plain": [
       "'secondary'"
      ]
     },
     "execution_count": 141,
     "metadata": {},
     "output_type": "execute_result"
    }
   ],
   "source": [
    "next(tupIter)"
   ]
  },
  {
   "cell_type": "code",
   "execution_count": 142,
   "id": "45fed244",
   "metadata": {},
   "outputs": [],
   "source": [
    "# next(tupIter) # throws StopIteration"
   ]
  },
  {
   "cell_type": "code",
   "execution_count": 143,
   "id": "54931875",
   "metadata": {},
   "outputs": [],
   "source": [
    "#using class\n",
    "class PrintUptoFive:\n",
    "    def __iter__(self):\n",
    "        self.n = 0\n",
    "        return self\n",
    "    \n",
    "    def __next__(self):\n",
    "        if self.n + 1 > 5:\n",
    "            raise StopIteration\n",
    "        self.n += 1\n",
    "        return self.n"
   ]
  },
  {
   "cell_type": "code",
   "execution_count": 144,
   "id": "1b78e636",
   "metadata": {},
   "outputs": [],
   "source": [
    "objUpToFive = PrintUptoFive()\n",
    "itUpToFive = iter(objUpToFive)"
   ]
  },
  {
   "cell_type": "code",
   "execution_count": 145,
   "id": "1b9ab45f",
   "metadata": {},
   "outputs": [
    {
     "data": {
      "text/plain": [
       "1"
      ]
     },
     "execution_count": 145,
     "metadata": {},
     "output_type": "execute_result"
    }
   ],
   "source": [
    "next(itUpToFive)"
   ]
  },
  {
   "cell_type": "code",
   "execution_count": 146,
   "id": "afc03631",
   "metadata": {},
   "outputs": [
    {
     "data": {
      "text/plain": [
       "2"
      ]
     },
     "execution_count": 146,
     "metadata": {},
     "output_type": "execute_result"
    }
   ],
   "source": [
    "next(itUpToFive)"
   ]
  },
  {
   "cell_type": "code",
   "execution_count": 147,
   "id": "91fd466f",
   "metadata": {},
   "outputs": [
    {
     "data": {
      "text/plain": [
       "3"
      ]
     },
     "execution_count": 147,
     "metadata": {},
     "output_type": "execute_result"
    }
   ],
   "source": [
    "next(itUpToFive)"
   ]
  },
  {
   "cell_type": "code",
   "execution_count": 148,
   "id": "723570b9",
   "metadata": {},
   "outputs": [
    {
     "data": {
      "text/plain": [
       "4"
      ]
     },
     "execution_count": 148,
     "metadata": {},
     "output_type": "execute_result"
    }
   ],
   "source": [
    "next(itUpToFive)"
   ]
  },
  {
   "cell_type": "code",
   "execution_count": 149,
   "id": "a73be223",
   "metadata": {},
   "outputs": [
    {
     "data": {
      "text/plain": [
       "5"
      ]
     },
     "execution_count": 149,
     "metadata": {},
     "output_type": "execute_result"
    }
   ],
   "source": [
    "next(itUpToFive)"
   ]
  },
  {
   "cell_type": "code",
   "execution_count": 150,
   "id": "a53af167",
   "metadata": {},
   "outputs": [],
   "source": [
    "#next(objUpToFive) # Stop iteration error"
   ]
  },
  {
   "cell_type": "markdown",
   "id": "4b0470fb",
   "metadata": {},
   "source": [
    "### 16. Scope"
   ]
  },
  {
   "cell_type": "code",
   "execution_count": 151,
   "id": "32916c17",
   "metadata": {},
   "outputs": [],
   "source": [
    "#local, global, built-in and enclosed scope"
   ]
  },
  {
   "cell_type": "markdown",
   "id": "9fac96e4",
   "metadata": {},
   "source": [
    "### 17. Modules"
   ]
  },
  {
   "cell_type": "code",
   "execution_count": 152,
   "id": "460202b0",
   "metadata": {},
   "outputs": [],
   "source": [
    "#example - use pycharm"
   ]
  },
  {
   "cell_type": "markdown",
   "id": "f0e39fbf",
   "metadata": {},
   "source": [
    "### 18. Dates\n"
   ]
  },
  {
   "cell_type": "code",
   "execution_count": 153,
   "id": "517a5d99",
   "metadata": {},
   "outputs": [
    {
     "name": "stdout",
     "output_type": "stream",
     "text": [
      "2022-03-15 05:51:58.555036\n"
     ]
    }
   ],
   "source": [
    "import datetime \n",
    "print(datetime.datetime.now())"
   ]
  },
  {
   "cell_type": "code",
   "execution_count": 154,
   "id": "b30f3f08",
   "metadata": {},
   "outputs": [],
   "source": [
    "currentDateTime = datetime.datetime.now()"
   ]
  },
  {
   "cell_type": "code",
   "execution_count": 155,
   "id": "3074f1df",
   "metadata": {},
   "outputs": [],
   "source": [
    "#currentDateTime.strptime()"
   ]
  },
  {
   "cell_type": "markdown",
   "id": "5e0a5c07",
   "metadata": {},
   "source": [
    "### 19. Math library"
   ]
  },
  {
   "cell_type": "code",
   "execution_count": 156,
   "id": "82a87f81",
   "metadata": {},
   "outputs": [
    {
     "name": "stdout",
     "output_type": "stream",
     "text": [
      "4.0\n"
     ]
    }
   ],
   "source": [
    "import math as m\n",
    "print(m.sqrt(16))"
   ]
  },
  {
   "cell_type": "code",
   "execution_count": 157,
   "id": "5f5e56de",
   "metadata": {},
   "outputs": [
    {
     "name": "stdout",
     "output_type": "stream",
     "text": [
      "125.0\n"
     ]
    }
   ],
   "source": [
    "print(m.pow(5,3))"
   ]
  },
  {
   "cell_type": "code",
   "execution_count": null,
   "id": "757a41aa",
   "metadata": {},
   "outputs": [],
   "source": []
  }
 ],
 "metadata": {
  "kernelspec": {
   "display_name": "Python 3",
   "language": "python",
   "name": "python3"
  },
  "language_info": {
   "codemirror_mode": {
    "name": "ipython",
    "version": 3
   },
   "file_extension": ".py",
   "mimetype": "text/x-python",
   "name": "python",
   "nbconvert_exporter": "python",
   "pygments_lexer": "ipython3",
   "version": "3.8.8"
  }
 },
 "nbformat": 4,
 "nbformat_minor": 5
}
