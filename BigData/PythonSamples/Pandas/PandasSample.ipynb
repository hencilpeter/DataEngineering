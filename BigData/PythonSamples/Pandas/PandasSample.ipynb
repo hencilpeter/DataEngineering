{
 "cells": [
  {
   "cell_type": "code",
   "execution_count": 37,
   "id": "37712f32",
   "metadata": {},
   "outputs": [],
   "source": [
    "import pandas as pd\n",
    "import numpy as np"
   ]
  },
  {
   "cell_type": "code",
   "execution_count": 38,
   "id": "7813ab12",
   "metadata": {},
   "outputs": [],
   "source": [
    "def factorial(n):\n",
    "    if n <= 0:\n",
    "        return 0\n",
    "    else:\n",
    "        result = 1\n",
    "        currentNumber = n \n",
    "        while currentNumber > 0:\n",
    "            result *= currentNumber\n",
    "            currentNumber -= 1\n",
    "    \n",
    "        return result\n",
    "    "
   ]
  },
  {
   "cell_type": "code",
   "execution_count": 39,
   "id": "2ffae5bd",
   "metadata": {},
   "outputs": [
    {
     "data": {
      "text/plain": [
       "120"
      ]
     },
     "execution_count": 39,
     "metadata": {},
     "output_type": "execute_result"
    }
   ],
   "source": [
    "factorial(5)"
   ]
  },
  {
   "cell_type": "code",
   "execution_count": 40,
   "id": "f317a9b2",
   "metadata": {},
   "outputs": [],
   "source": [
    "def fibonacci(n):\n",
    "    if n<= 0:\n",
    "        return\n",
    "    else:\n",
    "        num1 = 0\n",
    "        num2 = 1\n",
    "        for i in range(n):\n",
    "            print(num1)\n",
    "            temp = num1 + num2 \n",
    "            num1 = num2 \n",
    "            num2 = temp \n",
    "            \n",
    "    "
   ]
  },
  {
   "cell_type": "code",
   "execution_count": 41,
   "id": "6d4aebcf",
   "metadata": {},
   "outputs": [
    {
     "name": "stdout",
     "output_type": "stream",
     "text": [
      "0\n",
      "1\n",
      "1\n",
      "2\n",
      "3\n",
      "5\n",
      "8\n",
      "13\n",
      "21\n",
      "34\n"
     ]
    }
   ],
   "source": [
    "fibonacci(10)"
   ]
  },
  {
   "cell_type": "code",
   "execution_count": null,
   "id": "7ceae06c",
   "metadata": {},
   "outputs": [],
   "source": []
  },
  {
   "cell_type": "code",
   "execution_count": 42,
   "id": "7faa8a69",
   "metadata": {},
   "outputs": [],
   "source": [
    "series = pd.Series([10,20,30,40,50])"
   ]
  },
  {
   "cell_type": "code",
   "execution_count": 43,
   "id": "6b49e11e",
   "metadata": {},
   "outputs": [
    {
     "data": {
      "text/plain": [
       "0    10\n",
       "1    20\n",
       "2    30\n",
       "3    40\n",
       "4    50\n",
       "dtype: int64"
      ]
     },
     "execution_count": 43,
     "metadata": {},
     "output_type": "execute_result"
    }
   ],
   "source": [
    "series"
   ]
  },
  {
   "cell_type": "code",
   "execution_count": 44,
   "id": "4b942274",
   "metadata": {},
   "outputs": [
    {
     "data": {
      "text/plain": [
       "50"
      ]
     },
     "execution_count": 44,
     "metadata": {},
     "output_type": "execute_result"
    }
   ],
   "source": [
    "series[4]"
   ]
  },
  {
   "cell_type": "code",
   "execution_count": 45,
   "id": "bb425ed1",
   "metadata": {},
   "outputs": [],
   "source": [
    "series = pd.Series([10,20,30,40,50,55],['one','two','three','four','five','five'])"
   ]
  },
  {
   "cell_type": "code",
   "execution_count": 46,
   "id": "177be48b",
   "metadata": {},
   "outputs": [
    {
     "data": {
      "text/plain": [
       "one      10\n",
       "two      20\n",
       "three    30\n",
       "four     40\n",
       "five     50\n",
       "five     55\n",
       "dtype: int64"
      ]
     },
     "execution_count": 46,
     "metadata": {},
     "output_type": "execute_result"
    }
   ],
   "source": [
    "series"
   ]
  },
  {
   "cell_type": "code",
   "execution_count": 47,
   "id": "11ded66d",
   "metadata": {},
   "outputs": [
    {
     "data": {
      "text/plain": [
       "five    50\n",
       "five    55\n",
       "dtype: int64"
      ]
     },
     "execution_count": 47,
     "metadata": {},
     "output_type": "execute_result"
    }
   ],
   "source": [
    "series['five']"
   ]
  },
  {
   "cell_type": "code",
   "execution_count": 48,
   "id": "f4a09c26",
   "metadata": {},
   "outputs": [],
   "source": [
    "date1 = pd.date_range('2022-10-1',  periods=6, freq='M')"
   ]
  },
  {
   "cell_type": "code",
   "execution_count": 49,
   "id": "82e8d3e9",
   "metadata": {},
   "outputs": [
    {
     "data": {
      "text/plain": [
       "DatetimeIndex(['2022-10-31', '2022-11-30', '2022-12-31', '2023-01-31',\n",
       "               '2023-02-28', '2023-03-31'],\n",
       "              dtype='datetime64[ns]', freq='M')"
      ]
     },
     "execution_count": 49,
     "metadata": {},
     "output_type": "execute_result"
    }
   ],
   "source": [
    "date1"
   ]
  },
  {
   "cell_type": "code",
   "execution_count": 50,
   "id": "ef164b67",
   "metadata": {},
   "outputs": [
    {
     "data": {
      "text/plain": [
       "DatetimeIndex(['2022-12-31', '2023-12-31', '2024-12-31', '2025-12-31',\n",
       "               '2026-12-31', '2027-12-31'],\n",
       "              dtype='datetime64[ns]', freq='A-DEC')"
      ]
     },
     "execution_count": 50,
     "metadata": {},
     "output_type": "execute_result"
    }
   ],
   "source": [
    "date1 = pd.date_range('2022-10-1',  periods=6, freq='Y')\n",
    "date1"
   ]
  },
  {
   "cell_type": "code",
   "execution_count": 51,
   "id": "c6ba283e",
   "metadata": {},
   "outputs": [
    {
     "data": {
      "text/plain": [
       "DatetimeIndex(['2022-10-01 00:00:00', '2022-10-01 01:00:00',\n",
       "               '2022-10-01 02:00:00', '2022-10-01 03:00:00',\n",
       "               '2022-10-01 04:00:00', '2022-10-01 05:00:00'],\n",
       "              dtype='datetime64[ns]', freq='H')"
      ]
     },
     "execution_count": 51,
     "metadata": {},
     "output_type": "execute_result"
    }
   ],
   "source": [
    "date1 = pd.date_range('2022-10-1',  periods=6, freq='H')\n",
    "date1"
   ]
  },
  {
   "cell_type": "code",
   "execution_count": null,
   "id": "2edc3fc8",
   "metadata": {},
   "outputs": [],
   "source": []
  },
  {
   "cell_type": "code",
   "execution_count": 54,
   "id": "0902ac37",
   "metadata": {
    "scrolled": true
   },
   "outputs": [
    {
     "name": "stdout",
     "output_type": "stream",
     "text": [
      "[[[ 0.43828246  1.589385    1.1699426  -0.6887482 ]\n",
      "  [ 0.23663784 -1.03951468 -0.78970707 -1.18379115]\n",
      "  [ 0.90104392 -0.96823144 -0.31315675 -0.7761377 ]]\n",
      "\n",
      " [[ 0.48488223  1.71748236 -0.98598733  1.18944821]\n",
      "  [ 0.65182424 -0.48289512  1.8919828   0.08189683]\n",
      "  [-1.82281437  0.72453001 -0.54557968  0.09810412]]]\n"
     ]
    }
   ],
   "source": [
    "#create dataframe with random numbers \n",
    "print(np.random.randn(2,3,4))"
   ]
  },
  {
   "cell_type": "code",
   "execution_count": 59,
   "id": "4b41e0b0",
   "metadata": {},
   "outputs": [
    {
     "name": "stdout",
     "output_type": "stream",
     "text": [
      "       Col1      Col2      Col3      Col4      Col5\n",
      "0  0.227653  0.751160 -1.541318 -1.195704  1.634673\n",
      "1 -1.273593  1.360588 -0.821985  0.383179  1.686957\n",
      "2  0.856239  1.090406 -0.170922 -0.733646 -1.210170\n",
      "3 -0.505205  0.938800 -0.860122  2.899860 -0.182517\n",
      "4 -0.113538  1.342076  0.560061 -1.122967  0.871974\n",
      "5 -0.102389 -0.636814 -0.703713 -2.177939  1.257227\n",
      "6  1.839321  0.330788  0.148447  0.514484 -1.112939\n",
      "7  0.411830  1.591459  0.774349 -1.524169  1.133578\n",
      "8 -1.122727  0.092884  1.242876 -0.935926 -0.222265\n",
      "9 -1.196725 -1.406237  1.176931 -0.512847  0.557122\n"
     ]
    }
   ],
   "source": [
    "#create simple dataframe with custom columns\n",
    "dfSample = pd.DataFrame(np.random.randn(10,5), columns=['Col1','Col2','Col3','Col4','Col5'] )\n",
    "\n",
    "print(dfSample)"
   ]
  },
  {
   "cell_type": "code",
   "execution_count": 64,
   "id": "c2f43e31",
   "metadata": {},
   "outputs": [
    {
     "data": {
      "text/plain": [
       "(10, 5)"
      ]
     },
     "execution_count": 64,
     "metadata": {},
     "output_type": "execute_result"
    }
   ],
   "source": [
    "dfSample.shape"
   ]
  },
  {
   "cell_type": "code",
   "execution_count": 66,
   "id": "8cedbe32",
   "metadata": {},
   "outputs": [
    {
     "name": "stdout",
     "output_type": "stream",
     "text": [
      "        Col1      Col2      Col3      Col4      Col5\n",
      "10 -0.094916  1.481645 -0.488854  0.937846  3.131363\n",
      "11 -0.517247 -0.478715  1.485095  0.984463 -0.459282\n",
      "12 -0.994509  0.809764 -1.166207  0.040214 -0.650022\n",
      "13  0.782217 -0.752979 -0.770198 -0.043415 -2.765141\n",
      "14  0.146800 -0.756703 -0.039913  0.743667  0.809275\n",
      "15  0.491583  0.038567 -1.168911 -0.724116  1.534079\n",
      "16  0.307686 -0.829831 -0.999759  1.463820 -1.232513\n",
      "17  1.711874  1.049027  1.430938  0.374652  0.606585\n",
      "18  0.841756  0.936706  1.041775  0.902274 -0.634650\n",
      "19 -1.449658  0.581805 -0.109535 -0.688391 -0.461267\n"
     ]
    }
   ],
   "source": [
    "#simple dataframe with custom column and custom index\n",
    "dfSample = pd.DataFrame(np.random.randn(10,5), \n",
    "                        columns=['Col1','Col2','Col3','Col4','Col5'] , \n",
    "                        index=[10,11,12,13,14,15,16,17,18,19] )\n",
    "\n",
    "print(dfSample)"
   ]
  },
  {
   "cell_type": "code",
   "execution_count": 67,
   "id": "7a9b7ff0",
   "metadata": {},
   "outputs": [
    {
     "data": {
      "text/plain": [
       "10   -0.094916\n",
       "11   -0.517247\n",
       "12   -0.994509\n",
       "13    0.782217\n",
       "14    0.146800\n",
       "15    0.491583\n",
       "16    0.307686\n",
       "17    1.711874\n",
       "18    0.841756\n",
       "19   -1.449658\n",
       "Name: Col1, dtype: float64"
      ]
     },
     "execution_count": 67,
     "metadata": {},
     "output_type": "execute_result"
    }
   ],
   "source": [
    "#access dataframe items using column names\n",
    "dfSample['Col1']"
   ]
  },
  {
   "cell_type": "code",
   "execution_count": 79,
   "id": "1e587654",
   "metadata": {},
   "outputs": [
    {
     "data": {
      "text/html": [
       "<div>\n",
       "<style scoped>\n",
       "    .dataframe tbody tr th:only-of-type {\n",
       "        vertical-align: middle;\n",
       "    }\n",
       "\n",
       "    .dataframe tbody tr th {\n",
       "        vertical-align: top;\n",
       "    }\n",
       "\n",
       "    .dataframe thead th {\n",
       "        text-align: right;\n",
       "    }\n",
       "</style>\n",
       "<table border=\"1\" class=\"dataframe\">\n",
       "  <thead>\n",
       "    <tr style=\"text-align: right;\">\n",
       "      <th></th>\n",
       "      <th>Col1</th>\n",
       "      <th>Col3</th>\n",
       "    </tr>\n",
       "  </thead>\n",
       "  <tbody>\n",
       "    <tr>\n",
       "      <th>10</th>\n",
       "      <td>-0.094916</td>\n",
       "      <td>-0.488854</td>\n",
       "    </tr>\n",
       "    <tr>\n",
       "      <th>11</th>\n",
       "      <td>-0.517247</td>\n",
       "      <td>1.485095</td>\n",
       "    </tr>\n",
       "    <tr>\n",
       "      <th>12</th>\n",
       "      <td>-0.994509</td>\n",
       "      <td>-1.166207</td>\n",
       "    </tr>\n",
       "    <tr>\n",
       "      <th>13</th>\n",
       "      <td>0.782217</td>\n",
       "      <td>-0.770198</td>\n",
       "    </tr>\n",
       "    <tr>\n",
       "      <th>14</th>\n",
       "      <td>0.146800</td>\n",
       "      <td>-0.039913</td>\n",
       "    </tr>\n",
       "    <tr>\n",
       "      <th>15</th>\n",
       "      <td>0.491583</td>\n",
       "      <td>-1.168911</td>\n",
       "    </tr>\n",
       "    <tr>\n",
       "      <th>16</th>\n",
       "      <td>0.307686</td>\n",
       "      <td>-0.999759</td>\n",
       "    </tr>\n",
       "    <tr>\n",
       "      <th>17</th>\n",
       "      <td>1.711874</td>\n",
       "      <td>1.430938</td>\n",
       "    </tr>\n",
       "    <tr>\n",
       "      <th>18</th>\n",
       "      <td>0.841756</td>\n",
       "      <td>1.041775</td>\n",
       "    </tr>\n",
       "    <tr>\n",
       "      <th>19</th>\n",
       "      <td>-1.449658</td>\n",
       "      <td>-0.109535</td>\n",
       "    </tr>\n",
       "  </tbody>\n",
       "</table>\n",
       "</div>"
      ],
      "text/plain": [
       "        Col1      Col3\n",
       "10 -0.094916 -0.488854\n",
       "11 -0.517247  1.485095\n",
       "12 -0.994509 -1.166207\n",
       "13  0.782217 -0.770198\n",
       "14  0.146800 -0.039913\n",
       "15  0.491583 -1.168911\n",
       "16  0.307686 -0.999759\n",
       "17  1.711874  1.430938\n",
       "18  0.841756  1.041775\n",
       "19 -1.449658 -0.109535"
      ]
     },
     "execution_count": 79,
     "metadata": {},
     "output_type": "execute_result"
    }
   ],
   "source": [
    "#access dataframe items - multimple columns  \n",
    "dfSample[['Col1','Col3']]"
   ]
  },
  {
   "cell_type": "code",
   "execution_count": 81,
   "id": "5a1cafc1",
   "metadata": {},
   "outputs": [
    {
     "name": "stdout",
     "output_type": "stream",
     "text": [
      "        Col1      Col2      Col3      Col4      Col5\n",
      "10 -0.371834 -0.933833 -0.249429 -0.381751 -0.461077\n",
      "11 -0.885528 -1.475598  1.059047  0.033065 -0.206319\n",
      "12  1.186723  0.695060 -0.477619  2.550594 -0.688871\n",
      "13  0.562038  1.075616  1.207477 -1.175954  1.435113\n",
      "14 -0.776997  0.036757  2.039938  0.454630  0.075555\n",
      "15 -0.518288 -0.530460 -1.073619 -1.644625  0.304601\n",
      "16  0.492653  0.944925 -0.461744  0.091581 -0.539847\n",
      "17  0.455497 -0.087119  1.166646  0.451089 -0.502932\n",
      "18  1.923519  0.226696  1.982002  0.158319  0.606035\n",
      "19  1.641007 -0.985923 -1.529901  0.584514 -0.256624\n"
     ]
    }
   ],
   "source": [
    "#simple dataframe with custom column and custom index - made string index\n",
    "dfSample = pd.DataFrame(np.random.randn(10,5), \n",
    "                        columns=['Col1','Col2','Col3','Col4','Col5'] , \n",
    "                        index=['10','11','12','13','14','15','16','17','18','19'] )\n",
    "\n",
    "print(dfSample)"
   ]
  },
  {
   "cell_type": "code",
   "execution_count": 89,
   "id": "087f3514",
   "metadata": {},
   "outputs": [
    {
     "data": {
      "text/html": [
       "<div>\n",
       "<style scoped>\n",
       "    .dataframe tbody tr th:only-of-type {\n",
       "        vertical-align: middle;\n",
       "    }\n",
       "\n",
       "    .dataframe tbody tr th {\n",
       "        vertical-align: top;\n",
       "    }\n",
       "\n",
       "    .dataframe thead th {\n",
       "        text-align: right;\n",
       "    }\n",
       "</style>\n",
       "<table border=\"1\" class=\"dataframe\">\n",
       "  <thead>\n",
       "    <tr style=\"text-align: right;\">\n",
       "      <th></th>\n",
       "      <th>Col1</th>\n",
       "      <th>Col2</th>\n",
       "      <th>Col3</th>\n",
       "      <th>Col4</th>\n",
       "      <th>Col5</th>\n",
       "    </tr>\n",
       "  </thead>\n",
       "  <tbody>\n",
       "    <tr>\n",
       "      <th>10</th>\n",
       "      <td>-0.371834</td>\n",
       "      <td>-0.933833</td>\n",
       "      <td>-0.249429</td>\n",
       "      <td>-0.381751</td>\n",
       "      <td>-0.461077</td>\n",
       "    </tr>\n",
       "    <tr>\n",
       "      <th>11</th>\n",
       "      <td>-0.885528</td>\n",
       "      <td>-1.475598</td>\n",
       "      <td>1.059047</td>\n",
       "      <td>0.033065</td>\n",
       "      <td>-0.206319</td>\n",
       "    </tr>\n",
       "    <tr>\n",
       "      <th>12</th>\n",
       "      <td>1.186723</td>\n",
       "      <td>0.695060</td>\n",
       "      <td>-0.477619</td>\n",
       "      <td>2.550594</td>\n",
       "      <td>-0.688871</td>\n",
       "    </tr>\n",
       "  </tbody>\n",
       "</table>\n",
       "</div>"
      ],
      "text/plain": [
       "        Col1      Col2      Col3      Col4      Col5\n",
       "10 -0.371834 -0.933833 -0.249429 -0.381751 -0.461077\n",
       "11 -0.885528 -1.475598  1.059047  0.033065 -0.206319\n",
       "12  1.186723  0.695060 -0.477619  2.550594 -0.688871"
      ]
     },
     "execution_count": 89,
     "metadata": {},
     "output_type": "execute_result"
    }
   ],
   "source": [
    "#access datafrme  by row numbers \n",
    "dfSample[0:3]"
   ]
  },
  {
   "cell_type": "code",
   "execution_count": 90,
   "id": "46d884b4",
   "metadata": {},
   "outputs": [
    {
     "data": {
      "text/html": [
       "<div>\n",
       "<style scoped>\n",
       "    .dataframe tbody tr th:only-of-type {\n",
       "        vertical-align: middle;\n",
       "    }\n",
       "\n",
       "    .dataframe tbody tr th {\n",
       "        vertical-align: top;\n",
       "    }\n",
       "\n",
       "    .dataframe thead th {\n",
       "        text-align: right;\n",
       "    }\n",
       "</style>\n",
       "<table border=\"1\" class=\"dataframe\">\n",
       "  <thead>\n",
       "    <tr style=\"text-align: right;\">\n",
       "      <th></th>\n",
       "      <th>Col1</th>\n",
       "      <th>Col2</th>\n",
       "      <th>Col3</th>\n",
       "      <th>Col4</th>\n",
       "      <th>Col5</th>\n",
       "    </tr>\n",
       "  </thead>\n",
       "  <tbody>\n",
       "    <tr>\n",
       "      <th>11</th>\n",
       "      <td>-0.885528</td>\n",
       "      <td>-1.475598</td>\n",
       "      <td>1.059047</td>\n",
       "      <td>0.033065</td>\n",
       "      <td>-0.206319</td>\n",
       "    </tr>\n",
       "    <tr>\n",
       "      <th>12</th>\n",
       "      <td>1.186723</td>\n",
       "      <td>0.695060</td>\n",
       "      <td>-0.477619</td>\n",
       "      <td>2.550594</td>\n",
       "      <td>-0.688871</td>\n",
       "    </tr>\n",
       "    <tr>\n",
       "      <th>13</th>\n",
       "      <td>0.562038</td>\n",
       "      <td>1.075616</td>\n",
       "      <td>1.207477</td>\n",
       "      <td>-1.175954</td>\n",
       "      <td>1.435113</td>\n",
       "    </tr>\n",
       "    <tr>\n",
       "      <th>14</th>\n",
       "      <td>-0.776997</td>\n",
       "      <td>0.036757</td>\n",
       "      <td>2.039938</td>\n",
       "      <td>0.454630</td>\n",
       "      <td>0.075555</td>\n",
       "    </tr>\n",
       "    <tr>\n",
       "      <th>15</th>\n",
       "      <td>-0.518288</td>\n",
       "      <td>-0.530460</td>\n",
       "      <td>-1.073619</td>\n",
       "      <td>-1.644625</td>\n",
       "      <td>0.304601</td>\n",
       "    </tr>\n",
       "  </tbody>\n",
       "</table>\n",
       "</div>"
      ],
      "text/plain": [
       "        Col1      Col2      Col3      Col4      Col5\n",
       "11 -0.885528 -1.475598  1.059047  0.033065 -0.206319\n",
       "12  1.186723  0.695060 -0.477619  2.550594 -0.688871\n",
       "13  0.562038  1.075616  1.207477 -1.175954  1.435113\n",
       "14 -0.776997  0.036757  2.039938  0.454630  0.075555\n",
       "15 -0.518288 -0.530460 -1.073619 -1.644625  0.304601"
      ]
     },
     "execution_count": 90,
     "metadata": {},
     "output_type": "execute_result"
    }
   ],
   "source": [
    "#access datafrme  by indexes  ( there is no -1 for index )\n",
    "dfSample['11':'15']"
   ]
  },
  {
   "cell_type": "code",
   "execution_count": 91,
   "id": "cc779084",
   "metadata": {},
   "outputs": [
    {
     "data": {
      "text/html": [
       "<div>\n",
       "<style scoped>\n",
       "    .dataframe tbody tr th:only-of-type {\n",
       "        vertical-align: middle;\n",
       "    }\n",
       "\n",
       "    .dataframe tbody tr th {\n",
       "        vertical-align: top;\n",
       "    }\n",
       "\n",
       "    .dataframe thead th {\n",
       "        text-align: right;\n",
       "    }\n",
       "</style>\n",
       "<table border=\"1\" class=\"dataframe\">\n",
       "  <thead>\n",
       "    <tr style=\"text-align: right;\">\n",
       "      <th></th>\n",
       "      <th>10</th>\n",
       "      <th>11</th>\n",
       "      <th>12</th>\n",
       "      <th>13</th>\n",
       "      <th>14</th>\n",
       "      <th>15</th>\n",
       "      <th>16</th>\n",
       "      <th>17</th>\n",
       "      <th>18</th>\n",
       "      <th>19</th>\n",
       "    </tr>\n",
       "  </thead>\n",
       "  <tbody>\n",
       "    <tr>\n",
       "      <th>Col1</th>\n",
       "      <td>-0.371834</td>\n",
       "      <td>-0.885528</td>\n",
       "      <td>1.186723</td>\n",
       "      <td>0.562038</td>\n",
       "      <td>-0.776997</td>\n",
       "      <td>-0.518288</td>\n",
       "      <td>0.492653</td>\n",
       "      <td>0.455497</td>\n",
       "      <td>1.923519</td>\n",
       "      <td>1.641007</td>\n",
       "    </tr>\n",
       "    <tr>\n",
       "      <th>Col2</th>\n",
       "      <td>-0.933833</td>\n",
       "      <td>-1.475598</td>\n",
       "      <td>0.695060</td>\n",
       "      <td>1.075616</td>\n",
       "      <td>0.036757</td>\n",
       "      <td>-0.530460</td>\n",
       "      <td>0.944925</td>\n",
       "      <td>-0.087119</td>\n",
       "      <td>0.226696</td>\n",
       "      <td>-0.985923</td>\n",
       "    </tr>\n",
       "    <tr>\n",
       "      <th>Col3</th>\n",
       "      <td>-0.249429</td>\n",
       "      <td>1.059047</td>\n",
       "      <td>-0.477619</td>\n",
       "      <td>1.207477</td>\n",
       "      <td>2.039938</td>\n",
       "      <td>-1.073619</td>\n",
       "      <td>-0.461744</td>\n",
       "      <td>1.166646</td>\n",
       "      <td>1.982002</td>\n",
       "      <td>-1.529901</td>\n",
       "    </tr>\n",
       "    <tr>\n",
       "      <th>Col4</th>\n",
       "      <td>-0.381751</td>\n",
       "      <td>0.033065</td>\n",
       "      <td>2.550594</td>\n",
       "      <td>-1.175954</td>\n",
       "      <td>0.454630</td>\n",
       "      <td>-1.644625</td>\n",
       "      <td>0.091581</td>\n",
       "      <td>0.451089</td>\n",
       "      <td>0.158319</td>\n",
       "      <td>0.584514</td>\n",
       "    </tr>\n",
       "    <tr>\n",
       "      <th>Col5</th>\n",
       "      <td>-0.461077</td>\n",
       "      <td>-0.206319</td>\n",
       "      <td>-0.688871</td>\n",
       "      <td>1.435113</td>\n",
       "      <td>0.075555</td>\n",
       "      <td>0.304601</td>\n",
       "      <td>-0.539847</td>\n",
       "      <td>-0.502932</td>\n",
       "      <td>0.606035</td>\n",
       "      <td>-0.256624</td>\n",
       "    </tr>\n",
       "  </tbody>\n",
       "</table>\n",
       "</div>"
      ],
      "text/plain": [
       "            10        11        12        13        14        15        16  \\\n",
       "Col1 -0.371834 -0.885528  1.186723  0.562038 -0.776997 -0.518288  0.492653   \n",
       "Col2 -0.933833 -1.475598  0.695060  1.075616  0.036757 -0.530460  0.944925   \n",
       "Col3 -0.249429  1.059047 -0.477619  1.207477  2.039938 -1.073619 -0.461744   \n",
       "Col4 -0.381751  0.033065  2.550594 -1.175954  0.454630 -1.644625  0.091581   \n",
       "Col5 -0.461077 -0.206319 -0.688871  1.435113  0.075555  0.304601 -0.539847   \n",
       "\n",
       "            17        18        19  \n",
       "Col1  0.455497  1.923519  1.641007  \n",
       "Col2 -0.087119  0.226696 -0.985923  \n",
       "Col3  1.166646  1.982002 -1.529901  \n",
       "Col4  0.451089  0.158319  0.584514  \n",
       "Col5 -0.502932  0.606035 -0.256624  "
      ]
     },
     "execution_count": 91,
     "metadata": {},
     "output_type": "execute_result"
    }
   ],
   "source": [
    "#apply transpose on dataframe \n",
    "dfSample.T"
   ]
  },
  {
   "cell_type": "code",
   "execution_count": null,
   "id": "246d588f",
   "metadata": {},
   "outputs": [],
   "source": []
  },
  {
   "cell_type": "code",
   "execution_count": null,
   "id": "03d16af0",
   "metadata": {},
   "outputs": [],
   "source": []
  },
  {
   "cell_type": "code",
   "execution_count": null,
   "id": "9f2a1cf4",
   "metadata": {},
   "outputs": [],
   "source": []
  },
  {
   "cell_type": "code",
   "execution_count": null,
   "id": "0de4fe1b",
   "metadata": {},
   "outputs": [],
   "source": []
  },
  {
   "cell_type": "code",
   "execution_count": null,
   "id": "9e376a52",
   "metadata": {},
   "outputs": [],
   "source": []
  },
  {
   "cell_type": "code",
   "execution_count": null,
   "id": "f2a05c64",
   "metadata": {},
   "outputs": [],
   "source": []
  },
  {
   "cell_type": "code",
   "execution_count": 93,
   "id": "b71b6e90",
   "metadata": {},
   "outputs": [
    {
     "data": {
      "text/plain": [
       "array([1, 2, 3, 4, 5])"
      ]
     },
     "execution_count": 93,
     "metadata": {},
     "output_type": "execute_result"
    }
   ],
   "source": [
    "#numpy arrays \n",
    "npArray = np.array([1,2,3,4,5])\n",
    "npArray"
   ]
  },
  {
   "cell_type": "code",
   "execution_count": 94,
   "id": "03c7d2e7",
   "metadata": {},
   "outputs": [
    {
     "data": {
      "text/plain": [
       "array([[1, 2],\n",
       "       [3, 4],\n",
       "       [5, 6]])"
      ]
     },
     "execution_count": 94,
     "metadata": {},
     "output_type": "execute_result"
    }
   ],
   "source": [
    "npArray = np.array([[1,2],[3,4],[5,6]])\n",
    "npArray"
   ]
  },
  {
   "cell_type": "code",
   "execution_count": 95,
   "id": "9f6afca2",
   "metadata": {},
   "outputs": [],
   "source": [
    "arr = np.array([[[1,2,3,4],\n",
    "[4,5,6,7],\n",
    "[9,10,11,12]],\n",
    "[[13,14,15,16],\n",
    "[17,18,19,20],\n",
    "[21,22,23,24]]])"
   ]
  },
  {
   "cell_type": "code",
   "execution_count": 96,
   "id": "dbd42f80",
   "metadata": {},
   "outputs": [
    {
     "data": {
      "text/plain": [
       "array([[[ 1,  2,  3,  4],\n",
       "        [ 4,  5,  6,  7],\n",
       "        [ 9, 10, 11, 12]],\n",
       "\n",
       "       [[13, 14, 15, 16],\n",
       "        [17, 18, 19, 20],\n",
       "        [21, 22, 23, 24]]])"
      ]
     },
     "execution_count": 96,
     "metadata": {},
     "output_type": "execute_result"
    }
   ],
   "source": [
    "arr"
   ]
  },
  {
   "cell_type": "code",
   "execution_count": 98,
   "id": "63e911bd",
   "metadata": {},
   "outputs": [
    {
     "data": {
      "text/plain": [
       "array([[13, 14, 15, 16],\n",
       "       [17, 18, 19, 20],\n",
       "       [21, 22, 23, 24]])"
      ]
     },
     "execution_count": 98,
     "metadata": {},
     "output_type": "execute_result"
    }
   ],
   "source": [
    "arr[1]"
   ]
  },
  {
   "cell_type": "code",
   "execution_count": 99,
   "id": "51cc62f8",
   "metadata": {},
   "outputs": [
    {
     "data": {
      "text/plain": [
       "array([21, 22, 23, 24])"
      ]
     },
     "execution_count": 99,
     "metadata": {},
     "output_type": "execute_result"
    }
   ],
   "source": [
    "arr[1,2]"
   ]
  },
  {
   "cell_type": "code",
   "execution_count": 100,
   "id": "b4a1fa7b",
   "metadata": {},
   "outputs": [
    {
     "data": {
      "text/plain": [
       "23"
      ]
     },
     "execution_count": 100,
     "metadata": {},
     "output_type": "execute_result"
    }
   ],
   "source": [
    "arr[1,2,2]"
   ]
  },
  {
   "cell_type": "code",
   "execution_count": 102,
   "id": "f2330032",
   "metadata": {},
   "outputs": [
    {
     "data": {
      "text/plain": [
       "array([[ 1,  2,  3,  4],\n",
       "       [ 4,  5,  6,  7],\n",
       "       [ 9, 10, 11, 12]])"
      ]
     },
     "execution_count": 102,
     "metadata": {},
     "output_type": "execute_result"
    }
   ],
   "source": [
    "#apply slicing \n",
    "#print from first outer group first and second row elements \n",
    "arr[0,0:3]\n"
   ]
  },
  {
   "cell_type": "code",
   "execution_count": null,
   "id": "d235bb29",
   "metadata": {},
   "outputs": [],
   "source": []
  }
 ],
 "metadata": {
  "kernelspec": {
   "display_name": "Python 3",
   "language": "python",
   "name": "python3"
  },
  "language_info": {
   "codemirror_mode": {
    "name": "ipython",
    "version": 3
   },
   "file_extension": ".py",
   "mimetype": "text/x-python",
   "name": "python",
   "nbconvert_exporter": "python",
   "pygments_lexer": "ipython3",
   "version": "3.8.8"
  }
 },
 "nbformat": 4,
 "nbformat_minor": 5
}
