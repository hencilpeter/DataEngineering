{
 "cells": [
  {
   "cell_type": "markdown",
   "metadata": {},
   "source": [
    "# Iterators and Generators "
   ]
  },
  {
   "cell_type": "code",
   "execution_count": 10,
   "metadata": {},
   "outputs": [],
   "source": [
    "lstNum = [1,2,3,4,5,6,7,8,9]\n",
    "filterResult = filter(lambda x: x> 5, lstNum)"
   ]
  },
  {
   "cell_type": "code",
   "execution_count": 11,
   "metadata": {},
   "outputs": [],
   "source": [
    "#list(filterResult)"
   ]
  },
  {
   "cell_type": "code",
   "execution_count": 12,
   "metadata": {},
   "outputs": [],
   "source": [
    "#next(filterResult)"
   ]
  },
  {
   "cell_type": "code",
   "execution_count": 13,
   "metadata": {},
   "outputs": [
    {
     "name": "stdout",
     "output_type": "stream",
     "text": [
      "6\n",
      "7\n",
      "8\n",
      "9\n"
     ]
    }
   ],
   "source": [
    "for x in filterResult:\n",
    "    print(x)"
   ]
  },
  {
   "cell_type": "code",
   "execution_count": 15,
   "metadata": {},
   "outputs": [
    {
     "data": {
      "text/plain": [
       "'apple'"
      ]
     },
     "execution_count": 15,
     "metadata": {},
     "output_type": "execute_result"
    }
   ],
   "source": [
    "#iterable to iterator\n",
    "fruits = ['apple', 'orange', 'pineapple']\n",
    "#use iter function \n",
    "iFruits = iter(fruits)\n",
    "next(iFruits)"
   ]
  },
  {
   "cell_type": "code",
   "execution_count": 16,
   "metadata": {},
   "outputs": [
    {
     "data": {
      "text/plain": [
       "'orange'"
      ]
     },
     "execution_count": 16,
     "metadata": {},
     "output_type": "execute_result"
    }
   ],
   "source": [
    "next(iFruits)"
   ]
  },
  {
   "cell_type": "code",
   "execution_count": 19,
   "metadata": {},
   "outputs": [
    {
     "name": "stdout",
     "output_type": "stream",
     "text": [
      "apple\n",
      "orange\n",
      "pineapple\n"
     ]
    }
   ],
   "source": [
    "iFruits = iter(fruits)\n",
    "#similar logic\n",
    "while True:\n",
    "    try:\n",
    "        print(next(iFruits))\n",
    "    except StopIteration:\n",
    "        break;"
   ]
  },
  {
   "cell_type": "code",
   "execution_count": 109,
   "metadata": {},
   "outputs": [],
   "source": [
    "#fibonacci series real time app - golden ratio, estimation\n",
    "#difficulty estimation, convert miles to KM and vice versa , \n",
    "#function to generate fibonacci numbers upto a specified number\n",
    "\n",
    "def fibonacci(n):\n",
    "    first = 1\n",
    "    second = 0\n",
    "    res = []\n",
    "    for x in range(n):       \n",
    "            curr = first + second\n",
    "            first, second =  second, curr\n",
    "            res.append(curr)\n",
    "    return res"
   ]
  },
  {
   "cell_type": "code",
   "execution_count": 110,
   "metadata": {},
   "outputs": [
    {
     "data": {
      "text/plain": [
       "[1, 1, 2, 3, 5, 8, 13, 21, 34, 55]"
      ]
     },
     "execution_count": 110,
     "metadata": {},
     "output_type": "execute_result"
    }
   ],
   "source": [
    "fibonacci(10)"
   ]
  },
  {
   "cell_type": "code",
   "execution_count": 108,
   "metadata": {},
   "outputs": [],
   "source": [
    "class Fib:\n",
    "    def __init__(self, maxNum):\n",
    "        self._maxNum = maxNum\n",
    "        self._first = 1\n",
    "        self._second = 1\n",
    "    \n",
    "    def __iter__(self):\n",
    "        return self\n",
    "    \n",
    "    def __next__(self):\n",
    "        fib = self._first\n",
    "        if fib > self._maxNum:\n",
    "            raise StopIteration\n",
    "        self._first, self._second = self._second, self._first + self._second\n",
    "        return fib"
   ]
  },
  {
   "cell_type": "code",
   "execution_count": 94,
   "metadata": {},
   "outputs": [],
   "source": [
    "it = Fib(4)"
   ]
  },
  {
   "cell_type": "code",
   "execution_count": 95,
   "metadata": {},
   "outputs": [
    {
     "data": {
      "text/plain": [
       "1"
      ]
     },
     "execution_count": 95,
     "metadata": {},
     "output_type": "execute_result"
    }
   ],
   "source": [
    "next(it)"
   ]
  },
  {
   "cell_type": "code",
   "execution_count": 96,
   "metadata": {},
   "outputs": [
    {
     "data": {
      "text/plain": [
       "1"
      ]
     },
     "execution_count": 96,
     "metadata": {},
     "output_type": "execute_result"
    }
   ],
   "source": [
    "next(it)"
   ]
  },
  {
   "cell_type": "code",
   "execution_count": 97,
   "metadata": {},
   "outputs": [
    {
     "data": {
      "text/plain": [
       "2"
      ]
     },
     "execution_count": 97,
     "metadata": {},
     "output_type": "execute_result"
    }
   ],
   "source": [
    "next(it)"
   ]
  },
  {
   "cell_type": "code",
   "execution_count": 98,
   "metadata": {},
   "outputs": [
    {
     "data": {
      "text/plain": [
       "3"
      ]
     },
     "execution_count": 98,
     "metadata": {},
     "output_type": "execute_result"
    }
   ],
   "source": [
    "next(it)"
   ]
  },
  {
   "cell_type": "code",
   "execution_count": 99,
   "metadata": {},
   "outputs": [
    {
     "name": "stdout",
     "output_type": "stream",
     "text": [
      "1\n",
      "1\n",
      "2\n",
      "3\n",
      "5\n",
      "8\n",
      "13\n",
      "21\n"
     ]
    }
   ],
   "source": [
    "for n in Fib(22):\n",
    "    print(n)"
   ]
  },
  {
   "cell_type": "code",
   "execution_count": 113,
   "metadata": {},
   "outputs": [],
   "source": [
    "class FibNoLimit:\n",
    "    def __init__(self):\n",
    "        self._first = 1\n",
    "        self._second = 1\n",
    "    \n",
    "    def __iter__(self):\n",
    "        return self\n",
    "    \n",
    "    def __next__(self):\n",
    "        fib = self._first\n",
    "        self._first, self._second = self._second, self._first + self._second\n",
    "        return fib"
   ]
  },
  {
   "cell_type": "code",
   "execution_count": 115,
   "metadata": {},
   "outputs": [],
   "source": [
    "it1 = FibNoLimit()"
   ]
  },
  {
   "cell_type": "code",
   "execution_count": 185,
   "metadata": {},
   "outputs": [
    {
     "data": {
      "text/plain": [
       "190392490709135"
      ]
     },
     "execution_count": 185,
     "metadata": {},
     "output_type": "execute_result"
    }
   ],
   "source": [
    "next(it1)"
   ]
  },
  {
   "cell_type": "code",
   "execution_count": 186,
   "metadata": {},
   "outputs": [],
   "source": [
    "def goodies():\n",
    "    yield \"Cupcake\"\n",
    "    yield \"Donut\"\n",
    "    yield \"Eclair\"\n",
    "    yield \"Froyo\"\n",
    "    yield \"Gingerbread\"\n",
    "    yield \"Honeycomb\"\n",
    "    yield \"Ice Cream Sandwich\"\n",
    "    yield \"Jelly Bean\"\n",
    "    yield \"KitKat\"\n",
    "    yield \"Lollipop\"\n",
    "    yield \"Marshmallow\""
   ]
  },
  {
   "cell_type": "code",
   "execution_count": 190,
   "metadata": {},
   "outputs": [],
   "source": [
    "#generator is an iterator\n",
    "gen = goodies()"
   ]
  },
  {
   "cell_type": "code",
   "execution_count": 191,
   "metadata": {},
   "outputs": [
    {
     "data": {
      "text/plain": [
       "'Cupcake'"
      ]
     },
     "execution_count": 191,
     "metadata": {},
     "output_type": "execute_result"
    }
   ],
   "source": [
    "#every next it go inside and get the next yield value\n",
    "next(gen)"
   ]
  },
  {
   "cell_type": "code",
   "execution_count": 221,
   "metadata": {},
   "outputs": [],
   "source": [
    "#using yield in fibonacci\n",
    "def fib(max_value):\n",
    "    a, b = 1,1\n",
    "    while a < max_value:\n",
    "        yield a\n",
    "        a,b = b, a+b"
   ]
  },
  {
   "cell_type": "code",
   "execution_count": 222,
   "metadata": {},
   "outputs": [],
   "source": [
    "\n",
    "g = fib(22)"
   ]
  },
  {
   "cell_type": "code",
   "execution_count": 223,
   "metadata": {},
   "outputs": [
    {
     "name": "stdout",
     "output_type": "stream",
     "text": [
      "1\n",
      "1\n",
      "2\n",
      "3\n",
      "5\n",
      "8\n",
      "13\n",
      "21\n"
     ]
    }
   ],
   "source": [
    "#next(g)\n",
    "for x in g:\n",
    "    print(x)"
   ]
  },
  {
   "cell_type": "code",
   "execution_count": 247,
   "metadata": {},
   "outputs": [],
   "source": [
    "#different argument type \n",
    "#https://towardsdatascience.com/understanding-args-and-kwargs-in-python-321937f49c5b\n",
    "#*args - variable number of arguments. type :  tuple\n",
    "#kw - key-worded arguments. or key value pairs.  \n",
    "def dosomething(m, n, *args, **kwargs):\n",
    "    print(m,n)\n",
    "    print(type(args))\n",
    "    for i in args:\n",
    "        print(i)\n",
    "        \n",
    "    #for x in kwargs:\n",
    "    #    print(f' key = {x} value = {kwargs[x]}')\n",
    "    \n",
    "    #second approach \n",
    "    for k, v in kwargs.items():\n",
    "        print(f' key = {k} value = {v}' )\n"
   ]
  },
  {
   "cell_type": "code",
   "execution_count": 245,
   "metadata": {},
   "outputs": [
    {
     "name": "stdout",
     "output_type": "stream",
     "text": [
      "2 3\n",
      "<class 'tuple'>\n",
      "2 3\n",
      "<class 'tuple'>\n",
      "6\n",
      "7\n"
     ]
    }
   ],
   "source": [
    "dosomething(2,3)\n",
    "dosomething(2,3,6,7)"
   ]
  },
  {
   "cell_type": "code",
   "execution_count": 248,
   "metadata": {},
   "outputs": [
    {
     "name": "stdout",
     "output_type": "stream",
     "text": [
      "2 3\n",
      "<class 'tuple'>\n",
      "6\n",
      "7\n",
      " key = k value = 10\n",
      " key = y value = 23\n"
     ]
    }
   ],
   "source": [
    "dosomething(2,3,6,7, k=10, y=23)"
   ]
  },
  {
   "cell_type": "code",
   "execution_count": 249,
   "metadata": {},
   "outputs": [
    {
     "name": "stdout",
     "output_type": "stream",
     "text": [
      "5 6\n",
      "<class 'tuple'>\n",
      " key = x value = 5\n",
      " key = y value = 10\n",
      " key = z value = 15\n"
     ]
    }
   ],
   "source": [
    "#another way of calling \n",
    "args = {'x' :5, 'y' : 10, 'z': 15}\n",
    "dosomething(5,6, **args)"
   ]
  },
  {
   "cell_type": "code",
   "execution_count": null,
   "metadata": {},
   "outputs": [],
   "source": []
  }
 ],
 "metadata": {
  "kernelspec": {
   "display_name": "Python 3",
   "language": "python",
   "name": "python3"
  },
  "language_info": {
   "codemirror_mode": {
    "name": "ipython",
    "version": 3
   },
   "file_extension": ".py",
   "mimetype": "text/x-python",
   "name": "python",
   "nbconvert_exporter": "python",
   "pygments_lexer": "ipython3",
   "version": "3.7.6"
  }
 },
 "nbformat": 4,
 "nbformat_minor": 4
}
