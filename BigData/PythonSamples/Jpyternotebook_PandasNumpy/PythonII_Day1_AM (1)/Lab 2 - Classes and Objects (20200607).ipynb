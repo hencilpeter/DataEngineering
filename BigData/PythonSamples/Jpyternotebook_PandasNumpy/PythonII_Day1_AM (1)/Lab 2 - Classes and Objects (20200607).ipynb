{
 "cells": [
  {
   "cell_type": "code",
   "execution_count": 20,
   "metadata": {},
   "outputs": [],
   "source": [
    "class Employee:\n",
    "    def __init__(self, first_name, last_name, number):\n",
    "        self._first_name = first_name\n",
    "        self._last_name = last_name\n",
    "        self._number = number\n",
    "    \n",
    "    # properties \n",
    "    @property    #function decorator \n",
    "    def first_name(self):\n",
    "        return self._first_name;\n",
    "    @property  #function decorator \n",
    "    def last_name(self):\n",
    "        return self._last_name;\n",
    "    \n",
    "    @property  #function decorator \n",
    "    def number(self):\n",
    "        return self._number;\n",
    "    \n",
    "    #properties - Setters \n",
    "    @first_name.setter\n",
    "    def first_name(self, var):\n",
    "        self._first_name = var\n",
    "\n",
    "    @last_name.setter\n",
    "    def last_name(self, var):\n",
    "        self._last_name = var\n",
    "    \n",
    "    @number.setter\n",
    "    def number(self, var):\n",
    "        if (var > 0 and var < 0 ):\n",
    "            self._number = var\n",
    "    \n",
    "    #instance method\n",
    "    def print_name(self):\n",
    "        print(f'{self._first_name} , {self._last_name}')"
   ]
  },
  {
   "cell_type": "code",
   "execution_count": 21,
   "metadata": {},
   "outputs": [],
   "source": [
    "#objects\n",
    "employee1 = Employee('John','Smit',12)\n",
    "employee2 = Employee('James', 'Peter', 13)\n",
    "\n",
    "employee1.first_name\n",
    "employee1.last_name\n",
    "employee1.first_name = 'NewName'\n",
    "employee1.number = 123"
   ]
  },
  {
   "cell_type": "code",
   "execution_count": 17,
   "metadata": {},
   "outputs": [
    {
     "data": {
      "text/plain": [
       "'NewName'"
      ]
     },
     "execution_count": 17,
     "metadata": {},
     "output_type": "execute_result"
    }
   ],
   "source": [
    "employee1.number\n",
    "employee1.first_name"
   ]
  },
  {
   "cell_type": "code",
   "execution_count": 24,
   "metadata": {},
   "outputs": [
    {
     "name": "stdout",
     "output_type": "stream",
     "text": [
      "James , Peter\n"
     ]
    }
   ],
   "source": [
    "employee2.print_name()"
   ]
  },
  {
   "cell_type": "code",
   "execution_count": null,
   "metadata": {},
   "outputs": [],
   "source": []
  }
 ],
 "metadata": {
  "kernelspec": {
   "display_name": "Python 3",
   "language": "python",
   "name": "python3"
  },
  "language_info": {
   "codemirror_mode": {
    "name": "ipython",
    "version": 3
   },
   "file_extension": ".py",
   "mimetype": "text/x-python",
   "name": "python",
   "nbconvert_exporter": "python",
   "pygments_lexer": "ipython3",
   "version": "3.7.6"
  }
 },
 "nbformat": 4,
 "nbformat_minor": 4
}
