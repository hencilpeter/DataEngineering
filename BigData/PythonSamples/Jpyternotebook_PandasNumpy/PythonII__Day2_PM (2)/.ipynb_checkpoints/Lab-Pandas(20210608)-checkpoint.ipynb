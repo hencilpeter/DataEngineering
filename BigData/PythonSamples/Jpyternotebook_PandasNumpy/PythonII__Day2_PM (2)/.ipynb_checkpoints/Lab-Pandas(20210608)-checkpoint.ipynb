{
 "cells": [
  {
   "cell_type": "code",
   "execution_count": 25,
   "metadata": {},
   "outputs": [],
   "source": [
    "import pandas as pd"
   ]
  },
  {
   "cell_type": "code",
   "execution_count": 26,
   "metadata": {},
   "outputs": [
    {
     "data": {
      "text/plain": [
       "DatetimeIndex(['2021-06-08', '2021-06-09', '2021-06-10', '2021-06-11',\n",
       "               '2021-06-12', '2021-06-13', '2021-06-14', '2021-06-15',\n",
       "               '2021-06-16', '2021-06-17', '2021-06-18', '2021-06-19'],\n",
       "              dtype='datetime64[ns]', freq='D')"
      ]
     },
     "execution_count": 26,
     "metadata": {},
     "output_type": "execute_result"
    }
   ],
   "source": [
    "pd.date_range('08Jun2021',periods= 12)"
   ]
  },
  {
   "cell_type": "code",
   "execution_count": 27,
   "metadata": {},
   "outputs": [],
   "source": [
    "from datetime import datetime"
   ]
  },
  {
   "cell_type": "code",
   "execution_count": 28,
   "metadata": {},
   "outputs": [
    {
     "data": {
      "text/plain": [
       "datetime.datetime(2022, 3, 1, 21, 17, 12, 725486)"
      ]
     },
     "execution_count": 28,
     "metadata": {},
     "output_type": "execute_result"
    }
   ],
   "source": [
    "datetime.now()"
   ]
  },
  {
   "cell_type": "code",
   "execution_count": 39,
   "metadata": {},
   "outputs": [
    {
     "data": {
      "text/plain": [
       "21"
      ]
     },
     "execution_count": 39,
     "metadata": {},
     "output_type": "execute_result"
    }
   ],
   "source": [
    "datetime.now().hour"
   ]
  },
  {
   "cell_type": "code",
   "execution_count": 20,
   "metadata": {},
   "outputs": [
    {
     "data": {
      "text/plain": [
       "DatetimeIndex(['2021-06-30', '2021-07-31', '2021-08-31', '2021-09-30',\n",
       "               '2021-10-31', '2021-11-30', '2021-12-31', '2022-01-31',\n",
       "               '2022-02-28', '2022-03-31', '2022-04-30', '2022-05-31'],\n",
       "              dtype='datetime64[ns]', freq='M')"
      ]
     },
     "execution_count": 20,
     "metadata": {},
     "output_type": "execute_result"
    }
   ],
   "source": [
    "pd.date_range('08Jun2021',periods= 12, freq='M')"
   ]
  },
  {
   "cell_type": "code",
   "execution_count": 21,
   "metadata": {},
   "outputs": [
    {
     "data": {
      "text/plain": [
       "DatetimeIndex(['2021-07-01', '2021-08-01', '2021-09-01', '2021-10-01',\n",
       "               '2021-11-01', '2021-12-01', '2022-01-01', '2022-02-01',\n",
       "               '2022-03-01', '2022-04-01', '2022-05-01', '2022-06-01'],\n",
       "              dtype='datetime64[ns]', freq='MS')"
      ]
     },
     "execution_count": 21,
     "metadata": {},
     "output_type": "execute_result"
    }
   ],
   "source": [
    "#month start\n",
    "pd.date_range('08Jun2021',periods= 12, freq='MS')"
   ]
  },
  {
   "cell_type": "code",
   "execution_count": 22,
   "metadata": {},
   "outputs": [
    {
     "data": {
      "text/plain": [
       "DatetimeIndex(['2021-12-31', '2022-12-31', '2023-12-31', '2024-12-31',\n",
       "               '2025-12-31', '2026-12-31', '2027-12-31', '2028-12-31',\n",
       "               '2029-12-31', '2030-12-31', '2031-12-31', '2032-12-31'],\n",
       "              dtype='datetime64[ns]', freq='A-DEC')"
      ]
     },
     "execution_count": 22,
     "metadata": {},
     "output_type": "execute_result"
    }
   ],
   "source": [
    "pd.date_range('08Jun2021',periods= 12, freq='Y')"
   ]
  },
  {
   "cell_type": "code",
   "execution_count": 23,
   "metadata": {},
   "outputs": [
    {
     "data": {
      "text/plain": [
       "DatetimeIndex(['2021-06-30', '2021-07-31', '2021-08-31', '2021-09-30',\n",
       "               '2021-10-31', '2021-11-30', '2021-12-31', '2022-01-31',\n",
       "               '2022-02-28', '2022-03-31', '2022-04-30', '2022-05-31'],\n",
       "              dtype='datetime64[ns]', freq='M')"
      ]
     },
     "execution_count": 23,
     "metadata": {},
     "output_type": "execute_result"
    }
   ],
   "source": [
    "#fix date of every month\n",
    "dates1= pd.date_range('08Jun2021',periods= 12, freq='M')\n",
    "dates1"
   ]
  },
  {
   "cell_type": "code",
   "execution_count": 24,
   "metadata": {},
   "outputs": [
    {
     "data": {
      "text/plain": [
       "DatetimeIndex(['2021-07-15', '2021-08-15', '2021-09-15', '2021-10-15',\n",
       "               '2021-11-15', '2021-12-15', '2022-01-15', '2022-02-15',\n",
       "               '2022-03-15', '2022-04-15', '2022-05-15', '2022-06-15'],\n",
       "              dtype='datetime64[ns]', freq=None)"
      ]
     },
     "execution_count": 24,
     "metadata": {},
     "output_type": "execute_result"
    }
   ],
   "source": [
    "dates1 + pd.DateOffset(n=15)"
   ]
  },
  {
   "cell_type": "code",
   "execution_count": null,
   "metadata": {},
   "outputs": [],
   "source": []
  }
 ],
 "metadata": {
  "kernelspec": {
   "display_name": "Python 3",
   "language": "python",
   "name": "python3"
  },
  "language_info": {
   "codemirror_mode": {
    "name": "ipython",
    "version": 3
   },
   "file_extension": ".py",
   "mimetype": "text/x-python",
   "name": "python",
   "nbconvert_exporter": "python",
   "pygments_lexer": "ipython3",
   "version": "3.8.8"
  }
 },
 "nbformat": 4,
 "nbformat_minor": 4
}
