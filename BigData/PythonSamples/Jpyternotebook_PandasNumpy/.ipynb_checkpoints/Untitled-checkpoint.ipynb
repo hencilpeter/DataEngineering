{
 "cells": [
  {
   "cell_type": "code",
   "execution_count": 1,
   "id": "d6a58ec4",
   "metadata": {},
   "outputs": [],
   "source": [
    "def getEvenNumbers(n):\n",
    "    for i in range(n):\n",
    "        if i %2 == 0 :\n",
    "            yield i\n",
    "        else:\n",
    "            continue;"
   ]
  },
  {
   "cell_type": "code",
   "execution_count": 2,
   "id": "c55e7ade",
   "metadata": {},
   "outputs": [],
   "source": [
    "evenNumbers = getEvenNumbers(10)"
   ]
  },
  {
   "cell_type": "code",
   "execution_count": 3,
   "id": "4709b2c9",
   "metadata": {},
   "outputs": [
    {
     "data": {
      "text/plain": [
       "generator"
      ]
     },
     "execution_count": 3,
     "metadata": {},
     "output_type": "execute_result"
    }
   ],
   "source": [
    "type(evenNumbers)"
   ]
  },
  {
   "cell_type": "code",
   "execution_count": 4,
   "id": "88f33459",
   "metadata": {},
   "outputs": [
    {
     "data": {
      "text/plain": [
       "0"
      ]
     },
     "execution_count": 4,
     "metadata": {},
     "output_type": "execute_result"
    }
   ],
   "source": [
    "next(evenNumbers)"
   ]
  },
  {
   "cell_type": "code",
   "execution_count": 5,
   "id": "333d6186",
   "metadata": {},
   "outputs": [
    {
     "data": {
      "text/plain": [
       "2"
      ]
     },
     "execution_count": 5,
     "metadata": {},
     "output_type": "execute_result"
    }
   ],
   "source": [
    "next(evenNumbers)"
   ]
  },
  {
   "cell_type": "code",
   "execution_count": 6,
   "id": "46726bd3",
   "metadata": {},
   "outputs": [
    {
     "data": {
      "text/plain": [
       "4"
      ]
     },
     "execution_count": 6,
     "metadata": {},
     "output_type": "execute_result"
    }
   ],
   "source": [
    "next(evenNumbers)"
   ]
  },
  {
   "cell_type": "code",
   "execution_count": 7,
   "id": "02fad9b7",
   "metadata": {},
   "outputs": [
    {
     "data": {
      "text/plain": [
       "6"
      ]
     },
     "execution_count": 7,
     "metadata": {},
     "output_type": "execute_result"
    }
   ],
   "source": [
    "next(evenNumbers)"
   ]
  },
  {
   "cell_type": "code",
   "execution_count": null,
   "id": "91f3817f",
   "metadata": {},
   "outputs": [],
   "source": []
  },
  {
   "cell_type": "code",
   "execution_count": 8,
   "id": "abdcc15a",
   "metadata": {},
   "outputs": [],
   "source": [
    "a = [1,2,3]\n",
    "b = [11,22,33]"
   ]
  },
  {
   "cell_type": "code",
   "execution_count": 9,
   "id": "7f921c89",
   "metadata": {},
   "outputs": [],
   "source": [
    "c = zip (a,b)"
   ]
  },
  {
   "cell_type": "code",
   "execution_count": 10,
   "id": "ca4b4797",
   "metadata": {},
   "outputs": [
    {
     "name": "stdout",
     "output_type": "stream",
     "text": [
      "(1, 11)\n",
      "(2, 22)\n",
      "(3, 33)\n"
     ]
    }
   ],
   "source": [
    "for item in c:\n",
    "    print(item)"
   ]
  },
  {
   "cell_type": "code",
   "execution_count": null,
   "id": "0972430d",
   "metadata": {},
   "outputs": [],
   "source": [
    "#1. convert list to tuple "
   ]
  },
  {
   "cell_type": "code",
   "execution_count": 12,
   "id": "9326a957",
   "metadata": {},
   "outputs": [],
   "source": [
    "listSample = [1,2,3,4,\"bedok\", \"tampines\"]"
   ]
  },
  {
   "cell_type": "code",
   "execution_count": 16,
   "id": "73f60a0e",
   "metadata": {},
   "outputs": [],
   "source": [
    "tupleSample1 = list(listSample)"
   ]
  },
  {
   "cell_type": "code",
   "execution_count": 17,
   "id": "2748ef35",
   "metadata": {},
   "outputs": [
    {
     "data": {
      "text/plain": [
       "[1, 2, 3, 4, 'bedok', 'tampines']"
      ]
     },
     "execution_count": 17,
     "metadata": {},
     "output_type": "execute_result"
    }
   ],
   "source": [
    "tupleSample1"
   ]
  },
  {
   "cell_type": "code",
   "execution_count": null,
   "id": "0569dad2",
   "metadata": {},
   "outputs": [],
   "source": []
  }
 ],
 "metadata": {
  "kernelspec": {
   "display_name": "Python 3",
   "language": "python",
   "name": "python3"
  },
  "language_info": {
   "codemirror_mode": {
    "name": "ipython",
    "version": 3
   },
   "file_extension": ".py",
   "mimetype": "text/x-python",
   "name": "python",
   "nbconvert_exporter": "python",
   "pygments_lexer": "ipython3",
   "version": "3.8.8"
  }
 },
 "nbformat": 4,
 "nbformat_minor": 5
}
